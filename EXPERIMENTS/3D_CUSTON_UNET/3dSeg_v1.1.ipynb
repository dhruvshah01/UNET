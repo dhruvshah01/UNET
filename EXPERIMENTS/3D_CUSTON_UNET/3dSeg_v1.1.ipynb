{
 "cells": [
  {
   "cell_type": "code",
   "execution_count": 1,
   "id": "3fbfa7ac",
   "metadata": {},
   "outputs": [
    {
     "name": "stdout",
     "output_type": "stream",
     "text": [
      "\u001b[33mWARNING: There was an error checking the latest version of pip.\u001b[0m\u001b[33m\n",
      "\u001b[0mNote: you may need to restart the kernel to use updated packages.\n"
     ]
    }
   ],
   "source": [
    "pip install tensorflow>=2.3.2"
   ]
  },
  {
   "cell_type": "code",
   "execution_count": 2,
   "id": "9effd9ed",
   "metadata": {},
   "outputs": [
    {
     "name": "stdout",
     "output_type": "stream",
     "text": [
      "\u001b[33mWARNING: There was an error checking the latest version of pip.\u001b[0m\u001b[33m\n",
      "\u001b[0mNote: you may need to restart the kernel to use updated packages.\n"
     ]
    }
   ],
   "source": [
    "pip install keras_applications>=1.0.8"
   ]
  },
  {
   "cell_type": "code",
   "execution_count": 3,
   "id": "d601b4b3",
   "metadata": {},
   "outputs": [
    {
     "name": "stdout",
     "output_type": "stream",
     "text": [
      "\u001b[33mWARNING: There was an error checking the latest version of pip.\u001b[0m\u001b[33m\n",
      "\u001b[0mNote: you may need to restart the kernel to use updated packages.\n"
     ]
    }
   ],
   "source": [
    "pip install classification_models_3D>=1.0.3"
   ]
  },
  {
   "cell_type": "code",
   "execution_count": 4,
   "id": "543e23d9",
   "metadata": {},
   "outputs": [
    {
     "name": "stdout",
     "output_type": "stream",
     "text": [
      "\u001b[33mWARNING: There was an error checking the latest version of pip.\u001b[0m\u001b[33m\n",
      "\u001b[0mNote: you may need to restart the kernel to use updated packages.\n"
     ]
    }
   ],
   "source": [
    "pip install efficientnet_3D>=1.0.2"
   ]
  },
  {
   "cell_type": "code",
   "execution_count": 8,
   "id": "29f35b85",
   "metadata": {},
   "outputs": [
    {
     "name": "stdout",
     "output_type": "stream",
     "text": [
      "Requirement already satisfied: segmentation_models_3d in /home/dhruvjignesh.shah001/anaconda3/envs/UNET/lib/python3.10/site-packages (1.0.4)\n",
      "Requirement already satisfied: tensorflow>=2.8.0 in /home/dhruvjignesh.shah001/anaconda3/envs/UNET/lib/python3.10/site-packages (from segmentation_models_3d) (2.14.0)\n",
      "Requirement already satisfied: keras-applications>=1.0.8 in /home/dhruvjignesh.shah001/anaconda3/envs/UNET/lib/python3.10/site-packages (from segmentation_models_3d) (1.0.8)\n",
      "Requirement already satisfied: classification-models-3D>=1.0.6 in /home/dhruvjignesh.shah001/anaconda3/envs/UNET/lib/python3.10/site-packages (from segmentation_models_3d) (1.0.7)\n",
      "Requirement already satisfied: numpy>=1.9.1 in /home/dhruvjignesh.shah001/anaconda3/envs/UNET/lib/python3.10/site-packages (from keras-applications>=1.0.8->segmentation_models_3d) (1.23.5)\n",
      "Requirement already satisfied: h5py in /home/dhruvjignesh.shah001/anaconda3/envs/UNET/lib/python3.10/site-packages (from keras-applications>=1.0.8->segmentation_models_3d) (3.8.0)\n",
      "Requirement already satisfied: absl-py>=1.0.0 in /home/dhruvjignesh.shah001/anaconda3/envs/UNET/lib/python3.10/site-packages (from tensorflow>=2.8.0->segmentation_models_3d) (1.4.0)\n",
      "Requirement already satisfied: astunparse>=1.6.0 in /home/dhruvjignesh.shah001/anaconda3/envs/UNET/lib/python3.10/site-packages (from tensorflow>=2.8.0->segmentation_models_3d) (1.6.3)\n",
      "Requirement already satisfied: flatbuffers>=23.5.26 in /home/dhruvjignesh.shah001/anaconda3/envs/UNET/lib/python3.10/site-packages (from tensorflow>=2.8.0->segmentation_models_3d) (23.5.26)\n",
      "Requirement already satisfied: gast!=0.5.0,!=0.5.1,!=0.5.2,>=0.2.1 in /home/dhruvjignesh.shah001/anaconda3/envs/UNET/lib/python3.10/site-packages (from tensorflow>=2.8.0->segmentation_models_3d) (0.5.4)\n",
      "Requirement already satisfied: google-pasta>=0.1.1 in /home/dhruvjignesh.shah001/anaconda3/envs/UNET/lib/python3.10/site-packages (from tensorflow>=2.8.0->segmentation_models_3d) (0.2.0)\n",
      "Requirement already satisfied: libclang>=13.0.0 in /home/dhruvjignesh.shah001/anaconda3/envs/UNET/lib/python3.10/site-packages (from tensorflow>=2.8.0->segmentation_models_3d) (16.0.6)\n",
      "Requirement already satisfied: ml-dtypes==0.2.0 in /home/dhruvjignesh.shah001/anaconda3/envs/UNET/lib/python3.10/site-packages (from tensorflow>=2.8.0->segmentation_models_3d) (0.2.0)\n",
      "Requirement already satisfied: opt-einsum>=2.3.2 in /home/dhruvjignesh.shah001/anaconda3/envs/UNET/lib/python3.10/site-packages (from tensorflow>=2.8.0->segmentation_models_3d) (3.3.0)\n",
      "Requirement already satisfied: packaging in /home/dhruvjignesh.shah001/anaconda3/envs/UNET/lib/python3.10/site-packages (from tensorflow>=2.8.0->segmentation_models_3d) (22.0)\n",
      "Requirement already satisfied: protobuf!=4.21.0,!=4.21.1,!=4.21.2,!=4.21.3,!=4.21.4,!=4.21.5,<5.0.0dev,>=3.20.3 in /home/dhruvjignesh.shah001/anaconda3/envs/UNET/lib/python3.10/site-packages (from tensorflow>=2.8.0->segmentation_models_3d) (3.20.3)\n",
      "Requirement already satisfied: setuptools in /home/dhruvjignesh.shah001/anaconda3/envs/UNET/lib/python3.10/site-packages (from tensorflow>=2.8.0->segmentation_models_3d) (65.6.3)\n",
      "Requirement already satisfied: six>=1.12.0 in /home/dhruvjignesh.shah001/anaconda3/envs/UNET/lib/python3.10/site-packages (from tensorflow>=2.8.0->segmentation_models_3d) (1.16.0)\n",
      "Requirement already satisfied: termcolor>=1.1.0 in /home/dhruvjignesh.shah001/anaconda3/envs/UNET/lib/python3.10/site-packages (from tensorflow>=2.8.0->segmentation_models_3d) (2.2.0)\n",
      "Requirement already satisfied: typing-extensions>=3.6.6 in /home/dhruvjignesh.shah001/anaconda3/envs/UNET/lib/python3.10/site-packages (from tensorflow>=2.8.0->segmentation_models_3d) (4.4.0)\n",
      "Requirement already satisfied: wrapt<1.15,>=1.11.0 in /home/dhruvjignesh.shah001/anaconda3/envs/UNET/lib/python3.10/site-packages (from tensorflow>=2.8.0->segmentation_models_3d) (1.14.1)\n",
      "Requirement already satisfied: tensorflow-io-gcs-filesystem>=0.23.1 in /home/dhruvjignesh.shah001/anaconda3/envs/UNET/lib/python3.10/site-packages (from tensorflow>=2.8.0->segmentation_models_3d) (0.34.0)\n",
      "Requirement already satisfied: grpcio<2.0,>=1.24.3 in /home/dhruvjignesh.shah001/anaconda3/envs/UNET/lib/python3.10/site-packages (from tensorflow>=2.8.0->segmentation_models_3d) (1.51.1)\n",
      "Requirement already satisfied: tensorboard<2.15,>=2.14 in /home/dhruvjignesh.shah001/anaconda3/envs/UNET/lib/python3.10/site-packages (from tensorflow>=2.8.0->segmentation_models_3d) (2.14.1)\n",
      "Requirement already satisfied: tensorflow-estimator<2.15,>=2.14.0 in /home/dhruvjignesh.shah001/anaconda3/envs/UNET/lib/python3.10/site-packages (from tensorflow>=2.8.0->segmentation_models_3d) (2.14.0)\n",
      "Requirement already satisfied: keras<2.15,>=2.14.0 in /home/dhruvjignesh.shah001/anaconda3/envs/UNET/lib/python3.10/site-packages (from tensorflow>=2.8.0->segmentation_models_3d) (2.14.0)\n",
      "Requirement already satisfied: wheel<1.0,>=0.23.0 in /home/dhruvjignesh.shah001/anaconda3/envs/UNET/lib/python3.10/site-packages (from astunparse>=1.6.0->tensorflow>=2.8.0->segmentation_models_3d) (0.37.1)\n",
      "Requirement already satisfied: google-auth<3,>=1.6.3 in /home/dhruvjignesh.shah001/anaconda3/envs/UNET/lib/python3.10/site-packages (from tensorboard<2.15,>=2.14->tensorflow>=2.8.0->segmentation_models_3d) (2.16.0)\n",
      "Requirement already satisfied: google-auth-oauthlib<1.1,>=0.5 in /home/dhruvjignesh.shah001/anaconda3/envs/UNET/lib/python3.10/site-packages (from tensorboard<2.15,>=2.14->tensorflow>=2.8.0->segmentation_models_3d) (1.0.0)\n",
      "Requirement already satisfied: markdown>=2.6.8 in /home/dhruvjignesh.shah001/anaconda3/envs/UNET/lib/python3.10/site-packages (from tensorboard<2.15,>=2.14->tensorflow>=2.8.0->segmentation_models_3d) (3.4.1)\n",
      "Requirement already satisfied: requests<3,>=2.21.0 in /home/dhruvjignesh.shah001/anaconda3/envs/UNET/lib/python3.10/site-packages (from tensorboard<2.15,>=2.14->tensorflow>=2.8.0->segmentation_models_3d) (2.28.2)\n",
      "Requirement already satisfied: tensorboard-data-server<0.8.0,>=0.7.0 in /home/dhruvjignesh.shah001/anaconda3/envs/UNET/lib/python3.10/site-packages (from tensorboard<2.15,>=2.14->tensorflow>=2.8.0->segmentation_models_3d) (0.7.0)\n",
      "Requirement already satisfied: werkzeug>=1.0.1 in /home/dhruvjignesh.shah001/anaconda3/envs/UNET/lib/python3.10/site-packages (from tensorboard<2.15,>=2.14->tensorflow>=2.8.0->segmentation_models_3d) (2.2.2)\n",
      "Requirement already satisfied: cachetools<6.0,>=2.0.0 in /home/dhruvjignesh.shah001/anaconda3/envs/UNET/lib/python3.10/site-packages (from google-auth<3,>=1.6.3->tensorboard<2.15,>=2.14->tensorflow>=2.8.0->segmentation_models_3d) (5.3.0)\n",
      "Requirement already satisfied: pyasn1-modules>=0.2.1 in /home/dhruvjignesh.shah001/anaconda3/envs/UNET/lib/python3.10/site-packages (from google-auth<3,>=1.6.3->tensorboard<2.15,>=2.14->tensorflow>=2.8.0->segmentation_models_3d) (0.2.8)\n",
      "Requirement already satisfied: rsa<5,>=3.1.4 in /home/dhruvjignesh.shah001/anaconda3/envs/UNET/lib/python3.10/site-packages (from google-auth<3,>=1.6.3->tensorboard<2.15,>=2.14->tensorflow>=2.8.0->segmentation_models_3d) (4.9)\n",
      "Requirement already satisfied: requests-oauthlib>=0.7.0 in /home/dhruvjignesh.shah001/anaconda3/envs/UNET/lib/python3.10/site-packages (from google-auth-oauthlib<1.1,>=0.5->tensorboard<2.15,>=2.14->tensorflow>=2.8.0->segmentation_models_3d) (1.3.1)\n",
      "Requirement already satisfied: charset-normalizer<4,>=2 in /home/dhruvjignesh.shah001/anaconda3/envs/UNET/lib/python3.10/site-packages (from requests<3,>=2.21.0->tensorboard<2.15,>=2.14->tensorflow>=2.8.0->segmentation_models_3d) (3.0.1)\n",
      "Requirement already satisfied: idna<4,>=2.5 in /home/dhruvjignesh.shah001/anaconda3/envs/UNET/lib/python3.10/site-packages (from requests<3,>=2.21.0->tensorboard<2.15,>=2.14->tensorflow>=2.8.0->segmentation_models_3d) (3.4)\n",
      "Requirement already satisfied: urllib3<1.27,>=1.21.1 in /home/dhruvjignesh.shah001/anaconda3/envs/UNET/lib/python3.10/site-packages (from requests<3,>=2.21.0->tensorboard<2.15,>=2.14->tensorflow>=2.8.0->segmentation_models_3d) (1.26.14)\n",
      "Requirement already satisfied: certifi>=2017.4.17 in /home/dhruvjignesh.shah001/anaconda3/envs/UNET/lib/python3.10/site-packages (from requests<3,>=2.21.0->tensorboard<2.15,>=2.14->tensorflow>=2.8.0->segmentation_models_3d) (2022.12.7)\n",
      "Requirement already satisfied: MarkupSafe>=2.1.1 in /home/dhruvjignesh.shah001/anaconda3/envs/UNET/lib/python3.10/site-packages (from werkzeug>=1.0.1->tensorboard<2.15,>=2.14->tensorflow>=2.8.0->segmentation_models_3d) (2.1.1)\n",
      "Requirement already satisfied: pyasn1<0.5.0,>=0.4.6 in /home/dhruvjignesh.shah001/anaconda3/envs/UNET/lib/python3.10/site-packages (from pyasn1-modules>=0.2.1->google-auth<3,>=1.6.3->tensorboard<2.15,>=2.14->tensorflow>=2.8.0->segmentation_models_3d) (0.4.8)\n",
      "Requirement already satisfied: oauthlib>=3.0.0 in /home/dhruvjignesh.shah001/anaconda3/envs/UNET/lib/python3.10/site-packages (from requests-oauthlib>=0.7.0->google-auth-oauthlib<1.1,>=0.5->tensorboard<2.15,>=2.14->tensorflow>=2.8.0->segmentation_models_3d) (3.2.2)\n"
     ]
    },
    {
     "name": "stdout",
     "output_type": "stream",
     "text": [
      "\u001b[33mWARNING: There was an error checking the latest version of pip.\u001b[0m\u001b[33m\n",
      "\u001b[0mNote: you may need to restart the kernel to use updated packages.\n"
     ]
    }
   ],
   "source": [
    "pip install segmentation_models_3d"
   ]
  },
  {
   "cell_type": "code",
   "execution_count": 1,
   "id": "0430ca64",
   "metadata": {},
   "outputs": [
    {
     "name": "stderr",
     "output_type": "stream",
     "text": [
      "2023-10-16 15:49:38.751007: E tensorflow/compiler/xla/stream_executor/cuda/cuda_dnn.cc:9342] Unable to register cuDNN factory: Attempting to register factory for plugin cuDNN when one has already been registered\n",
      "2023-10-16 15:49:38.751072: E tensorflow/compiler/xla/stream_executor/cuda/cuda_fft.cc:609] Unable to register cuFFT factory: Attempting to register factory for plugin cuFFT when one has already been registered\n",
      "2023-10-16 15:49:38.751088: E tensorflow/compiler/xla/stream_executor/cuda/cuda_blas.cc:1518] Unable to register cuBLAS factory: Attempting to register factory for plugin cuBLAS when one has already been registered\n",
      "2023-10-16 15:49:38.757426: I tensorflow/core/platform/cpu_feature_guard.cc:182] This TensorFlow binary is optimized to use available CPU instructions in performance-critical operations.\n",
      "To enable the following instructions: AVX2 FMA, in other operations, rebuild TensorFlow with the appropriate compiler flags.\n",
      "2023-10-16 15:49:40.036575: W tensorflow/compiler/tf2tensorrt/utils/py_utils.cc:38] TF-TRT Warning: Could not find TensorRT\n"
     ]
    }
   ],
   "source": [
    "import tensorflow as tf"
   ]
  },
  {
   "cell_type": "code",
   "execution_count": 10,
   "id": "0cbe5b03",
   "metadata": {},
   "outputs": [
    {
     "name": "stdout",
     "output_type": "stream",
     "text": [
      "Segmentation Models: using `tf.keras` framework.\n"
     ]
    },
    {
     "ename": "ModuleNotFoundError",
     "evalue": "No module named 'keras.engine'",
     "output_type": "error",
     "traceback": [
      "\u001b[0;31m---------------------------------------------------------------------------\u001b[0m",
      "\u001b[0;31mModuleNotFoundError\u001b[0m                       Traceback (most recent call last)",
      "Cell \u001b[0;32mIn[10], line 1\u001b[0m\n\u001b[0;32m----> 1\u001b[0m \u001b[38;5;28;01mimport\u001b[39;00m \u001b[38;5;21;01msegmentation_models_3D\u001b[39;00m \u001b[38;5;28;01mas\u001b[39;00m \u001b[38;5;21;01msm\u001b[39;00m\n",
      "File \u001b[0;32m~/anaconda3/envs/UNET/lib/python3.10/site-packages/segmentation_models_3D/__init__.py:109\u001b[0m\n\u001b[1;32m    106\u001b[0m \u001b[38;5;28;01mfrom\u001b[39;00m \u001b[38;5;21;01m.\u001b[39;00m \u001b[38;5;28;01mimport\u001b[39;00m utils\n\u001b[1;32m    108\u001b[0m \u001b[38;5;66;03m# wrap segmentation models with framework modules\u001b[39;00m\n\u001b[0;32m--> 109\u001b[0m \u001b[38;5;28;01mfrom\u001b[39;00m \u001b[38;5;21;01m.\u001b[39;00m\u001b[38;5;21;01mbackbones\u001b[39;00m\u001b[38;5;21;01m.\u001b[39;00m\u001b[38;5;21;01mbackbones_factory\u001b[39;00m \u001b[38;5;28;01mimport\u001b[39;00m Backbones\n\u001b[1;32m    110\u001b[0m \u001b[38;5;28;01mfrom\u001b[39;00m \u001b[38;5;21;01m.\u001b[39;00m\u001b[38;5;21;01mmodels\u001b[39;00m\u001b[38;5;21;01m.\u001b[39;00m\u001b[38;5;21;01munet\u001b[39;00m \u001b[38;5;28;01mimport\u001b[39;00m Unet \u001b[38;5;28;01mas\u001b[39;00m _Unet\n\u001b[1;32m    111\u001b[0m \u001b[38;5;28;01mfrom\u001b[39;00m \u001b[38;5;21;01m.\u001b[39;00m\u001b[38;5;21;01mmodels\u001b[39;00m\u001b[38;5;21;01m.\u001b[39;00m\u001b[38;5;21;01mpspnet\u001b[39;00m \u001b[38;5;28;01mimport\u001b[39;00m PSPNet \u001b[38;5;28;01mas\u001b[39;00m _PSPNet\n",
      "File \u001b[0;32m~/anaconda3/envs/UNET/lib/python3.10/site-packages/segmentation_models_3D/backbones/backbones_factory.py:2\u001b[0m\n\u001b[1;32m      1\u001b[0m \u001b[38;5;28;01mimport\u001b[39;00m \u001b[38;5;21;01mcopy\u001b[39;00m\n\u001b[0;32m----> 2\u001b[0m \u001b[38;5;28;01mfrom\u001b[39;00m \u001b[38;5;21;01mclassification_models_3D\u001b[39;00m\u001b[38;5;21;01m.\u001b[39;00m\u001b[38;5;21;01mmodels_factory\u001b[39;00m \u001b[38;5;28;01mimport\u001b[39;00m ModelsFactory\n\u001b[1;32m      5\u001b[0m \u001b[38;5;28;01mclass\u001b[39;00m \u001b[38;5;21;01mBackbonesFactory\u001b[39;00m(ModelsFactory):\n\u001b[1;32m      6\u001b[0m     _default_feature_layers \u001b[38;5;241m=\u001b[39m {\n\u001b[1;32m      7\u001b[0m \n\u001b[1;32m      8\u001b[0m         \u001b[38;5;66;03m# List of layers to take features from backbone in the following order:\u001b[39;00m\n\u001b[0;32m   (...)\u001b[0m\n\u001b[1;32m     83\u001b[0m                             \u001b[38;5;124m'\u001b[39m\u001b[38;5;124mblock2b_add\u001b[39m\u001b[38;5;124m'\u001b[39m, \u001b[38;5;124m'\u001b[39m\u001b[38;5;124mblock1a_project_activation\u001b[39m\u001b[38;5;124m'\u001b[39m),\n\u001b[1;32m     84\u001b[0m     }\n",
      "File \u001b[0;32m~/anaconda3/envs/UNET/lib/python3.10/site-packages/classification_models_3D/models_factory.py:14\u001b[0m\n\u001b[1;32m     12\u001b[0m \u001b[38;5;28;01mfrom\u001b[39;00m \u001b[38;5;21;01m.\u001b[39;00m\u001b[38;5;21;01mmodels\u001b[39;00m \u001b[38;5;28;01mimport\u001b[39;00m mobilenet \u001b[38;5;28;01mas\u001b[39;00m mb1\n\u001b[1;32m     13\u001b[0m \u001b[38;5;28;01mfrom\u001b[39;00m \u001b[38;5;21;01m.\u001b[39;00m\u001b[38;5;21;01mmodels\u001b[39;00m \u001b[38;5;28;01mimport\u001b[39;00m mobilenet_v2 \u001b[38;5;28;01mas\u001b[39;00m mb2\n\u001b[0;32m---> 14\u001b[0m \u001b[38;5;28;01mfrom\u001b[39;00m \u001b[38;5;21;01m.\u001b[39;00m\u001b[38;5;21;01mmodels\u001b[39;00m \u001b[38;5;28;01mimport\u001b[39;00m efficientnet \u001b[38;5;28;01mas\u001b[39;00m eff\n\u001b[1;32m     15\u001b[0m \u001b[38;5;28;01mfrom\u001b[39;00m \u001b[38;5;21;01m.\u001b[39;00m\u001b[38;5;21;01mmodels\u001b[39;00m \u001b[38;5;28;01mimport\u001b[39;00m efficientnet_v2 \u001b[38;5;28;01mas\u001b[39;00m eff2\n\u001b[1;32m     16\u001b[0m \u001b[38;5;28;01mfrom\u001b[39;00m \u001b[38;5;21;01m.\u001b[39;00m\u001b[38;5;21;01mmodels\u001b[39;00m \u001b[38;5;28;01mimport\u001b[39;00m convnext \u001b[38;5;28;01mas\u001b[39;00m cnext\n",
      "File \u001b[0;32m~/anaconda3/envs/UNET/lib/python3.10/site-packages/classification_models_3D/models/efficientnet.py:33\u001b[0m\n\u001b[1;32m     30\u001b[0m \u001b[38;5;28;01mimport\u001b[39;00m \u001b[38;5;21;01mmath\u001b[39;00m\n\u001b[1;32m     32\u001b[0m \u001b[38;5;28;01mfrom\u001b[39;00m \u001b[38;5;21;01mkeras\u001b[39;00m\u001b[38;5;21;01m.\u001b[39;00m\u001b[38;5;21;01mapplications\u001b[39;00m \u001b[38;5;28;01mimport\u001b[39;00m imagenet_utils\n\u001b[0;32m---> 33\u001b[0m \u001b[38;5;28;01mfrom\u001b[39;00m \u001b[38;5;21;01mkeras\u001b[39;00m\u001b[38;5;21;01m.\u001b[39;00m\u001b[38;5;21;01mengine\u001b[39;00m \u001b[38;5;28;01mimport\u001b[39;00m training\n\u001b[1;32m     34\u001b[0m \u001b[38;5;28;01mfrom\u001b[39;00m \u001b[38;5;21;01mkeras\u001b[39;00m\u001b[38;5;21;01m.\u001b[39;00m\u001b[38;5;21;01mlayers\u001b[39;00m \u001b[38;5;28;01mimport\u001b[39;00m VersionAwareLayers\n\u001b[1;32m     35\u001b[0m \u001b[38;5;28;01mfrom\u001b[39;00m \u001b[38;5;21;01mkeras\u001b[39;00m\u001b[38;5;21;01m.\u001b[39;00m\u001b[38;5;21;01mutils\u001b[39;00m \u001b[38;5;28;01mimport\u001b[39;00m data_utils\n",
      "\u001b[0;31mModuleNotFoundError\u001b[0m: No module named 'keras.engine'"
     ]
    }
   ],
   "source": [
    "import segmentation_models_3D as sm"
   ]
  },
  {
   "cell_type": "code",
   "execution_count": 2,
   "id": "dace1a65",
   "metadata": {},
   "outputs": [],
   "source": [
    "import keras_applications\n",
    "import classification_models_3D \n",
    "import efficientnet_3D"
   ]
  },
  {
   "cell_type": "code",
   "execution_count": 4,
   "id": "8173ed58",
   "metadata": {},
   "outputs": [
    {
     "name": "stdout",
     "output_type": "stream",
     "text": [
      "Name: segmentation-models-3D\n",
      "Version: 1.0.4\n",
      "Summary: Set of Keras models for segmentation of 3D volumes .\n",
      "Home-page: https://github.com/ZFTurbo/segmentation_models_3D\n",
      "Author: Roman Sol (ZFTurbo)\n",
      "Author-email: UNKNOWN\n",
      "License: UNKNOWN\n",
      "Location: /home/dhruvjignesh.shah001/anaconda3/envs/UNET/lib/python3.10/site-packages\n",
      "Requires: classification-models-3D, keras-applications, tensorflow\n",
      "Required-by: \n",
      "Note: you may need to restart the kernel to use updated packages.\n"
     ]
    }
   ],
   "source": [
    "pip show segmentation-models-3d"
   ]
  },
  {
   "cell_type": "code",
   "execution_count": 7,
   "id": "d5e8978b",
   "metadata": {},
   "outputs": [
    {
     "name": "stdout",
     "output_type": "stream",
     "text": [
      "Requirement already satisfied: keras in /home/dhruvjignesh.shah001/anaconda3/envs/UNET/lib/python3.10/site-packages (2.14.0)\n",
      "\u001b[33mWARNING: There was an error checking the latest version of pip.\u001b[0m\u001b[33m\n",
      "\u001b[0mNote: you may need to restart the kernel to use updated packages.\n"
     ]
    }
   ],
   "source": [
    "pip install keras"
   ]
  },
  {
   "cell_type": "code",
   "execution_count": 9,
   "id": "4f3f6b64",
   "metadata": {},
   "outputs": [],
   "source": [
    "import keras"
   ]
  },
  {
   "cell_type": "code",
   "execution_count": 1,
   "id": "dc8cca9b",
   "metadata": {},
   "outputs": [
    {
     "name": "stderr",
     "output_type": "stream",
     "text": [
      "UsageError: Line magic function `%tensorflow_version` not found.\n"
     ]
    }
   ],
   "source": [
    "%tensorflow_version 1.x"
   ]
  },
  {
   "cell_type": "code",
   "execution_count": 4,
   "id": "0c978002",
   "metadata": {},
   "outputs": [
    {
     "name": "stdout",
     "output_type": "stream",
     "text": [
      "\u001b[31mERROR: Could not find a version that satisfies the requirement tensorflow==1.15.0 (from versions: 2.8.0rc0, 2.8.0rc1, 2.8.0, 2.8.1, 2.8.2, 2.8.3, 2.8.4, 2.9.0rc0, 2.9.0rc1, 2.9.0rc2, 2.9.0, 2.9.1, 2.9.2, 2.9.3, 2.10.0rc0, 2.10.0rc1, 2.10.0rc2, 2.10.0rc3, 2.10.0, 2.10.1, 2.11.0rc0, 2.11.0rc1, 2.11.0rc2, 2.11.0, 2.11.1, 2.12.0rc0, 2.12.0rc1, 2.12.0, 2.12.1, 2.13.0rc0, 2.13.0rc1, 2.13.0rc2, 2.13.0, 2.13.1, 2.14.0rc0, 2.14.0rc1, 2.14.0)\u001b[0m\u001b[31m\n",
      "\u001b[0m\u001b[31mERROR: No matching distribution found for tensorflow==1.15.0\u001b[0m\u001b[31m\n",
      "\u001b[0m\u001b[33mWARNING: There was an error checking the latest version of pip.\u001b[0m\u001b[33m\n",
      "\u001b[0mNote: you may need to restart the kernel to use updated packages.\n"
     ]
    }
   ],
   "source": [
    "pip install tensorflow==1.15.0"
   ]
  },
  {
   "cell_type": "code",
   "execution_count": 5,
   "id": "2a7db0b7",
   "metadata": {},
   "outputs": [
    {
     "name": "stdout",
     "output_type": "stream",
     "text": [
      "Collecting git+https://github.com/tensorflow/tensorflow.git@v1.15.0\n",
      "  Cloning https://github.com/tensorflow/tensorflow.git (to revision v1.15.0) to /tmp/pip-req-build-md6mxbsr\n",
      "  Running command git clone --filter=blob:none --quiet https://github.com/tensorflow/tensorflow.git /tmp/pip-req-build-md6mxbsr\n",
      "  Running command git checkout -q 590d6eef7e91a6a7392c8ffffb7b58f2e0c8bc6b\n",
      "  Resolved https://github.com/tensorflow/tensorflow.git to commit 590d6eef7e91a6a7392c8ffffb7b58f2e0c8bc6b\n",
      "\u001b[31mERROR: git+https://github.com/tensorflow/tensorflow.git@v1.15.0 does not appear to be a Python project: neither 'setup.py' nor 'pyproject.toml' found.\u001b[0m\u001b[31m\n",
      "\u001b[0m\u001b[33mWARNING: There was an error checking the latest version of pip.\u001b[0m\u001b[33m\n",
      "\u001b[0mNote: you may need to restart the kernel to use updated packages.\n"
     ]
    }
   ],
   "source": [
    "pip install git+https://github.com/tensorflow/tensorflow.git@v1.15.0"
   ]
  },
  {
   "cell_type": "code",
   "execution_count": null,
   "id": "94131000",
   "metadata": {},
   "outputs": [],
   "source": []
  }
 ],
 "metadata": {
  "kernelspec": {
   "display_name": "Python 3 (ipykernel)",
   "language": "python",
   "name": "python3"
  },
  "language_info": {
   "codemirror_mode": {
    "name": "ipython",
    "version": 3
   },
   "file_extension": ".py",
   "mimetype": "text/x-python",
   "name": "python",
   "nbconvert_exporter": "python",
   "pygments_lexer": "ipython3",
   "version": "3.10.9"
  }
 },
 "nbformat": 4,
 "nbformat_minor": 5
}
