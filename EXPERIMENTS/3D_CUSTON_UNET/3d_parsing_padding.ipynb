{
 "cells": [
  {
   "cell_type": "code",
   "execution_count": 1,
   "id": "f203889c",
   "metadata": {},
   "outputs": [],
   "source": [
    "import numpy as np"
   ]
  },
  {
   "cell_type": "code",
   "execution_count": 2,
   "id": "0ff27aaa",
   "metadata": {},
   "outputs": [
    {
     "name": "stderr",
     "output_type": "stream",
     "text": [
      "2023-11-09 14:33:29.574880: I tensorflow/core/platform/cpu_feature_guard.cc:182] This TensorFlow binary is optimized to use available CPU instructions in performance-critical operations.\n",
      "To enable the following instructions: SSE4.1 SSE4.2 AVX AVX2 FMA, in other operations, rebuild TensorFlow with the appropriate compiler flags.\n"
     ]
    }
   ],
   "source": [
    "import tensorflow as tf"
   ]
  },
  {
   "cell_type": "code",
   "execution_count": 3,
   "id": "79274145",
   "metadata": {},
   "outputs": [
    {
     "name": "stdout",
     "output_type": "stream",
     "text": [
      "TensorFlow version: 2.12.0\n"
     ]
    }
   ],
   "source": [
    "print(\"TensorFlow version:\", tf.__version__)"
   ]
  },
  {
   "cell_type": "code",
   "execution_count": 4,
   "id": "bf3e3db2",
   "metadata": {},
   "outputs": [
    {
     "name": "stdout",
     "output_type": "stream",
     "text": [
      "WARNING:tensorflow:From /tmp/ipykernel_216213/3939592.py:1: is_gpu_available (from tensorflow.python.framework.test_util) is deprecated and will be removed in a future version.\n",
      "Instructions for updating:\n",
      "Use `tf.config.list_physical_devices('GPU')` instead.\n"
     ]
    },
    {
     "data": {
      "text/plain": [
       "False"
      ]
     },
     "execution_count": 4,
     "metadata": {},
     "output_type": "execute_result"
    }
   ],
   "source": [
    "gpu_available = tf.test.is_gpu_available()\n",
    "gpu_available"
   ]
  },
  {
   "cell_type": "code",
   "execution_count": 2,
   "id": "0393641e",
   "metadata": {},
   "outputs": [],
   "source": [
    "import os\n",
    "import nrrd"
   ]
  },
  {
   "cell_type": "code",
   "execution_count": 3,
   "id": "11151eb9",
   "metadata": {},
   "outputs": [],
   "source": [
    "DATAPATH='/raid/mpsych/CACTAS/DATA/ESUS'"
   ]
  },
  {
   "cell_type": "code",
   "execution_count": 4,
   "id": "44dfe0f1",
   "metadata": {},
   "outputs": [],
   "source": [
    "def parse(folder):\n",
    "    image_files = []\n",
    "    label_files = []\n",
    "\n",
    "    for file_name in os.listdir(folder):\n",
    "        # Check if the file is an image or label file\n",
    "        if file_name.endswith(\".img.nrrd\"):\n",
    "            image_files.append(file_name)\n",
    "        elif file_name.endswith(\".seg.nrrd\"):\n",
    "            label_files.append(file_name)\n",
    "\n",
    "    # Sort the lists of files to ensure a consistent order\n",
    "    image_files.sort()\n",
    "    label_files.sort()\n",
    "\n",
    "    # Loop through the files and append them to separate lists based on size\n",
    "    for i in range(len(image_files)):\n",
    "        image_path = os.path.join(folder, image_files[i])\n",
    "        label_path = os.path.join(folder, label_files[i])\n",
    "    \n",
    "        size1 = os.path.getsize(image_path)\n",
    "        size2 = os.path.getsize(label_path)\n",
    "    \n",
    "        if size1 < size2:\n",
    "            label_files[i], image_files[i] = image_files[i], label_files[i]\n",
    "            \n",
    "    return image_files, label_files\n"
   ]
  },
  {
   "cell_type": "code",
   "execution_count": 5,
   "id": "606328c7",
   "metadata": {},
   "outputs": [],
   "source": [
    "def pad_images(image):\n",
    "    maxX = 512\n",
    "    maxY = 512\n",
    "    maxZ = 384  # Set the maximum z-axis dimension to 384\n",
    "    slicecount = 0\n",
    "\n",
    "    # Check if the z-axis dimension is greater than maxZ and clip it if necessary\n",
    "    if image.shape[2] > maxZ:\n",
    "        image = image[:, :, :maxZ]\n",
    "        #label = label[:, :, :maxZ]\n",
    "    \n",
    "    # Calculate the amount of padding needed\n",
    "    pad_x = maxX - image.shape[1]\n",
    "    pad_y = maxY - image.shape[0]\n",
    "    pad_z = maxZ - image.shape[2]\n",
    "\n",
    "    # Pad the image and label\n",
    "    padded_img = np.pad(image, ((0, pad_y), (0, pad_x), (0, pad_z)), 'constant')\n",
    "    #padded_lbl = np.pad(label, ((0, pad_y), (0, pad_x), (0, pad_z)), 'constant')\n",
    "\n",
    "    return padded_img"
   ]
  },
  {
   "cell_type": "code",
   "execution_count": 6,
   "id": "bc7049ff",
   "metadata": {},
   "outputs": [],
   "source": [
    "def pad_labels(label):\n",
    "    maxX = 512\n",
    "    maxY = 512\n",
    "    maxZ = 384  # Set the maximum z-axis dimension to 384\n",
    "    slicecount = 0\n",
    "\n",
    "    # Check if the z-axis dimension is greater than maxZ and clip it if necessary\n",
    "    if label.shape[2] > maxZ:\n",
    "        #image = image[:, :, :maxZ]\n",
    "        label = label[:, :, :maxZ]\n",
    "    \n",
    "    # Calculate the amount of padding needed\n",
    "    pad_x = maxX - label.shape[1]\n",
    "    pad_y = maxY - label.shape[0]\n",
    "    pad_z = maxZ - label.shape[2]\n",
    "\n",
    "    # Pad the image and label\n",
    "    #padded_img = np.pad(image, ((0, pad_y), (0, pad_x), (0, pad_z)), 'constant')\n",
    "    padded_lbl = np.pad(label, ((0, pad_y), (0, pad_x), (0, pad_z)), 'constant')\n",
    "\n",
    "    return padded_lbl"
   ]
  },
  {
   "cell_type": "code",
   "execution_count": 7,
   "id": "fc60966a",
   "metadata": {},
   "outputs": [],
   "source": [
    "image_files, label_files = parse(DATAPATH)"
   ]
  },
  {
   "cell_type": "code",
   "execution_count": 8,
   "id": "0c2b2b18",
   "metadata": {},
   "outputs": [
    {
     "name": "stdout",
     "output_type": "stream",
     "text": [
      "49.img.nrrd\n"
     ]
    }
   ],
   "source": [
    "print(image_files[31])"
   ]
  },
  {
   "cell_type": "code",
   "execution_count": 9,
   "id": "96555516",
   "metadata": {},
   "outputs": [
    {
     "name": "stdout",
     "output_type": "stream",
     "text": [
      "Number of files in folder: 204\n"
     ]
    }
   ],
   "source": [
    "num_files = len([f for f in os.listdir(DATAPATH) if os.path.isfile(os.path.join(DATAPATH, f))])\n",
    "print(\"Number of files in folder:\", num_files)"
   ]
  },
  {
   "cell_type": "code",
   "execution_count": 10,
   "id": "3d6a3050",
   "metadata": {},
   "outputs": [
    {
     "name": "stdout",
     "output_type": "stream",
     "text": [
      "0\n",
      "Z-Axis Dimension:  234\n",
      "1\n",
      "Z-Axis Dimension:  256\n",
      "2\n",
      "Z-Axis Dimension:  222\n",
      "3\n",
      "Z-Axis Dimension:  250\n",
      "4\n",
      "Z-Axis Dimension:  255\n",
      "5\n",
      "Z-Axis Dimension:  169\n",
      "6\n",
      "Z-Axis Dimension:  237\n",
      "7\n",
      "Z-Axis Dimension:  293\n",
      "8\n",
      "Z-Axis Dimension:  211\n",
      "9\n",
      "Z-Axis Dimension:  242\n"
     ]
    }
   ],
   "source": [
    "for i in range(0, 10):\n",
    "    image, header = nrrd.read(DATAPATH + \"/\" + image_files[i])\n",
    "    z = header['sizes'][2]\n",
    "    print(i)\n",
    "    print(\"Z-Axis Dimension: \", z)"
   ]
  },
  {
   "cell_type": "code",
   "execution_count": 16,
   "id": "eba11f17",
   "metadata": {},
   "outputs": [
    {
     "data": {
      "text/plain": [
       "134"
      ]
     },
     "execution_count": 16,
     "metadata": {},
     "output_type": "execute_result"
    }
   ],
   "source": [
    "len(label_files)"
   ]
  },
  {
   "cell_type": "code",
   "execution_count": 11,
   "id": "108d95c5",
   "metadata": {},
   "outputs": [
    {
     "data": {
      "text/plain": [
       "['10.a.seg.nrrd',\n",
       " '10.b.seg.nrrd',\n",
       " '11.b.seg.nrrd',\n",
       " '12.b.seg.nrrd',\n",
       " '12.seg.nrrd',\n",
       " '13.b.seg.nrrd',\n",
       " '13.seg.nrrd',\n",
       " '14.a.seg.nrrd',\n",
       " '14.b.seg.nrrd',\n",
       " '15.a.seg.nrrd',\n",
       " '15.b.seg.nrrd',\n",
       " '16.b.seg.nrrd',\n",
       " '16.seg.nrrd',\n",
       " '17.b.seg.nrrd',\n",
       " '17.seg.nrrd',\n",
       " '18.b.seg.nrrd',\n",
       " '18.seg.nrrd',\n",
       " '2.a.seg.nrrd',\n",
       " '2.b.seg.nrrd',\n",
       " '21.b.seg.nrrd',\n",
       " '21.seg.nrrd',\n",
       " '22.b.seg.nrrd',\n",
       " '22.seg.nrrd',\n",
       " '23.b.seg.nrrd',\n",
       " '23.seg.nrrd',\n",
       " '24.b.seg.nrrd',\n",
       " '24.seg.nrrd',\n",
       " '25.b.seg.nrrd',\n",
       " '25.seg.nrrd',\n",
       " '26.b.seg.nrrd',\n",
       " '26.seg.nrrd',\n",
       " '27.a.seg.nrrd',\n",
       " '27.b.seg.nrrd',\n",
       " '29.b.seg.nrrd',\n",
       " '29.seg.nrrd',\n",
       " '31.b.seg.nrrd',\n",
       " '31.seg.nrrd',\n",
       " '32.a.seg.nrrd',\n",
       " '32.b.seg.nrrd',\n",
       " '33.a.seg.nrrd',\n",
       " '33.b.seg.nrrd',\n",
       " '35.a.seg.nrrd',\n",
       " '35.b.seg.nrrd',\n",
       " '36.b.seg.nrrd',\n",
       " '36.seg.nrrd',\n",
       " '39.a.seg.nrrd',\n",
       " '39.b.seg.nrrd',\n",
       " '40.b.seg.nrrd',\n",
       " '40.seg.nrrd',\n",
       " '41.a.seg.nrrd',\n",
       " '41.b.seg.nrrd',\n",
       " '42.b.seg.nrrd',\n",
       " '45.b.seg.nrrd',\n",
       " '45.seg.nrrd',\n",
       " '46.a.seg.nrrd',\n",
       " '46.b.seg.nrrd',\n",
       " '47.a.seg.nrrd',\n",
       " '47.b.seg.nrrd',\n",
       " '48.a.seg.nrrd',\n",
       " '48.b.seg.nrrd',\n",
       " '49.b.seg.nrrd',\n",
       " '49.seg.nrrd',\n",
       " '5.a.seg.nrrd',\n",
       " '5.b.seg.nrrd',\n",
       " '50.a.seg.nrrd',\n",
       " '50.b.seg.nrrd',\n",
       " '51.a.seg.nrrd',\n",
       " '51.b.seg.nrrd',\n",
       " '52.a.seg.nrrd',\n",
       " '52.b.seg.nrrd',\n",
       " '53.a.seg.nrrd',\n",
       " '53.b.seg.nrrd',\n",
       " '55.b.seg.nrrd',\n",
       " '57.a.seg.nrrd',\n",
       " '57.b.seg.nrrd',\n",
       " '6.b.seg.nrrd',\n",
       " '6.seg.nrrd',\n",
       " '60.b.seg.nrrd',\n",
       " '61.a.seg.nrrd',\n",
       " '61.b.seg.nrrd',\n",
       " '62.b.seg.nrrd',\n",
       " '62.seg.nrrd',\n",
       " '63.b.seg.nrrd',\n",
       " '63.seg.nrrd',\n",
       " '64.a.seg.nrrd',\n",
       " '64.b.seg.nrrd',\n",
       " '65.b.seg.nrrd',\n",
       " '66.a.seg.nrrd',\n",
       " '66.b.seg.nrrd',\n",
       " '69.b.seg.nrrd',\n",
       " '69.seg.nrrd',\n",
       " '7.b.seg.nrrd',\n",
       " '7.seg.nrrd',\n",
       " '71.b.seg.nrrd',\n",
       " '71.seg.nrrd',\n",
       " '72.b.seg.nrrd',\n",
       " '72.seg.nrrd',\n",
       " '73.a.seg.nrrd',\n",
       " '73.b.seg.nrrd',\n",
       " '75.a.seg.nrrd',\n",
       " '75.b.seg.nrrd',\n",
       " '77.b.seg.nrrd',\n",
       " '77.seg.nrrd',\n",
       " '79.b.seg.nrrd',\n",
       " '79.seg.nrrd',\n",
       " '82.b.seg.nrrd',\n",
       " '82.seg.nrrd',\n",
       " '83.a.seg.nrrd',\n",
       " '83.b.seg.nrrd',\n",
       " '84.a.seg.nrrd',\n",
       " '84.b.seg.nrrd',\n",
       " '86.a.seg.nrrd',\n",
       " '86.b.seg.nrrd',\n",
       " '87.b.seg.nrrd',\n",
       " '87.seg.nrrd',\n",
       " '88.b.seg.nrrd',\n",
       " '88.seg.nrrd',\n",
       " '9.a.seg.nrrd',\n",
       " '9.b.seg.nrrd',\n",
       " '90.b.seg.nrrd',\n",
       " '90.seg.nrrd',\n",
       " '91.a.seg.nrrd',\n",
       " '91.b.seg.nrrd',\n",
       " '92.b.seg.nrrd',\n",
       " '92.seg.nrrd',\n",
       " '93.a.seg.nrrd',\n",
       " '93.b.seg.nrrd',\n",
       " '94.a.seg.nrrd',\n",
       " '94.b.seg.nrrd',\n",
       " '95.b.seg.nrrd',\n",
       " '96.b.seg.nrrd',\n",
       " '96.seg.nrrd',\n",
       " '97.b.seg.nrrd',\n",
       " '97.seg.nrrd']"
      ]
     },
     "execution_count": 11,
     "metadata": {},
     "output_type": "execute_result"
    }
   ],
   "source": [
    "label_files"
   ]
  },
  {
   "cell_type": "code",
   "execution_count": 20,
   "id": "63a89c3d",
   "metadata": {},
   "outputs": [
    {
     "name": "stdout",
     "output_type": "stream",
     "text": [
      "0\n",
      "Z-Axis Dimension:  234\n",
      "1\n",
      "Z-Axis Dimension:  234\n",
      "2\n",
      "Z-Axis Dimension:  256\n",
      "3\n",
      "Z-Axis Dimension:  222\n",
      "4\n",
      "Z-Axis Dimension:  222\n",
      "5\n",
      "Z-Axis Dimension:  250\n",
      "6\n",
      "Z-Axis Dimension:  250\n",
      "7\n",
      "Z-Axis Dimension:  255\n",
      "8\n",
      "Z-Axis Dimension:  255\n",
      "9\n",
      "Z-Axis Dimension:  169\n"
     ]
    }
   ],
   "source": [
    "for i in range(0, 10):\n",
    "    image, header = nrrd.read(DATAPATH + \"/\" + label_files[i])\n",
    "    z = header['sizes'][2]\n",
    "    print(i)\n",
    "    print(\"Z-Axis Dimension: \", z)"
   ]
  },
  {
   "cell_type": "code",
   "execution_count": 12,
   "id": "9f379121",
   "metadata": {},
   "outputs": [],
   "source": [
    "# Define the directory paths\n",
    "output_image_dir = 'PaddedImagesESUS'\n",
    "output_label_dir = 'PaddedLabelsESUS'\n",
    "\n",
    "# Create the directories if they don't exist\n",
    "os.makedirs(output_image_dir, exist_ok=True)\n",
    "os.makedirs(output_label_dir, exist_ok=True)\n"
   ]
  },
  {
   "cell_type": "code",
   "execution_count": null,
   "id": "7bc0d51b",
   "metadata": {},
   "outputs": [],
   "source": []
  },
  {
   "cell_type": "code",
   "execution_count": 22,
   "id": "85310efb",
   "metadata": {},
   "outputs": [],
   "source": [
    "def read_files_labels(label_files):\n",
    "    x = 0\n",
    "    for i in range(134):\n",
    "        if label_files[i].endswith(\".b.seg.nrrd\"):    \n",
    "            label_with_header = nrrd.read(DATAPATH + '/' + label_files[i])\n",
    "            label = label_with_header[0]\n",
    "            padded_label = pad_labels(label)\n",
    "            print('File: ' + str(x))\n",
    "            label_output_path = os.path.join(output_label_dir, f'Label_{x}.nrrd')\n",
    "            x = x+1\n",
    "            nrrd.write(label_output_path, padded_label)"
   ]
  },
  {
   "cell_type": "code",
   "execution_count": 38,
   "id": "885f5da7",
   "metadata": {},
   "outputs": [],
   "source": [
    "def read_files(image_files, label_files):\n",
    "    for i in range(0, 69):\n",
    "        label_with_header = nrrd.read(DATAPATH + '/' + label_files[i])\n",
    "        image_with_header = nrrd.read(DATAPATH + '/' + image_files[i])\n",
    "        label = label_with_header[0]\n",
    "        image = image_with_header[0]\n",
    "        padded_image, padded_label = pad(image, label)\n",
    "        print('File: ' + str(i))\n",
    "        \n",
    "        image_output_path = os.path.join(output_image_dir, f'Image_{i}.nrrd')\n",
    "        label_output_path = os.path.join(output_label_dir, f'Label_{i}.nrrd')\n",
    "        \n",
    "        # Write the padded NRRD files\n",
    "        nrrd.write(image_output_path, padded_image)\n",
    "        nrrd.write(label_output_path, padded_label)"
   ]
  },
  {
   "cell_type": "code",
   "execution_count": 23,
   "id": "136003ea",
   "metadata": {},
   "outputs": [
    {
     "name": "stdout",
     "output_type": "stream",
     "text": [
      "File: 0\n",
      "File: 1\n",
      "File: 2\n",
      "File: 3\n",
      "File: 4\n",
      "File: 5\n",
      "File: 6\n",
      "File: 7\n",
      "File: 8\n",
      "File: 9\n",
      "File: 10\n",
      "File: 11\n",
      "File: 12\n",
      "File: 13\n",
      "File: 14\n",
      "File: 15\n",
      "File: 16\n",
      "File: 17\n",
      "File: 18\n",
      "File: 19\n",
      "File: 20\n",
      "File: 21\n",
      "File: 22\n",
      "File: 23\n",
      "File: 24\n",
      "File: 25\n",
      "File: 26\n",
      "File: 27\n",
      "File: 28\n",
      "File: 29\n",
      "File: 30\n",
      "File: 31\n",
      "File: 32\n",
      "File: 33\n",
      "File: 34\n",
      "File: 35\n",
      "File: 36\n",
      "File: 37\n",
      "File: 38\n",
      "File: 39\n",
      "File: 40\n",
      "File: 41\n",
      "File: 42\n",
      "File: 43\n",
      "File: 44\n",
      "File: 45\n",
      "File: 46\n",
      "File: 47\n",
      "File: 48\n",
      "File: 49\n",
      "File: 50\n",
      "File: 51\n",
      "File: 52\n",
      "File: 53\n",
      "File: 54\n",
      "File: 55\n",
      "File: 56\n",
      "File: 57\n",
      "File: 58\n",
      "File: 59\n",
      "File: 60\n",
      "File: 61\n",
      "File: 62\n",
      "File: 63\n",
      "File: 64\n",
      "File: 65\n",
      "File: 66\n",
      "File: 67\n",
      "File: 68\n",
      "File: 69\n"
     ]
    }
   ],
   "source": [
    "read_files_labels(label_files)"
   ]
  },
  {
   "cell_type": "code",
   "execution_count": 20,
   "id": "2468c0f1",
   "metadata": {},
   "outputs": [
    {
     "name": "stdout",
     "output_type": "stream",
     "text": [
      "File: 0\n",
      "File: 1\n",
      "File: 2\n",
      "File: 3\n",
      "File: 4\n",
      "File: 5\n",
      "File: 6\n",
      "File: 7\n",
      "File: 8\n",
      "File: 9\n",
      "File: 10\n",
      "File: 11\n",
      "File: 12\n",
      "File: 13\n",
      "File: 14\n",
      "File: 15\n",
      "File: 16\n",
      "File: 17\n",
      "File: 18\n",
      "File: 19\n",
      "File: 20\n",
      "File: 21\n",
      "File: 22\n",
      "File: 23\n",
      "File: 24\n",
      "File: 25\n",
      "File: 26\n",
      "File: 27\n",
      "File: 28\n",
      "File: 29\n",
      "File: 30\n",
      "File: 31\n",
      "File: 32\n",
      "File: 33\n",
      "File: 34\n",
      "File: 35\n",
      "File: 36\n",
      "File: 37\n",
      "File: 38\n",
      "File: 39\n",
      "File: 40\n",
      "File: 41\n",
      "File: 42\n",
      "File: 43\n",
      "File: 44\n",
      "File: 45\n",
      "File: 46\n",
      "File: 47\n",
      "File: 48\n",
      "File: 49\n",
      "File: 50\n",
      "File: 51\n",
      "File: 52\n",
      "File: 53\n",
      "File: 54\n",
      "File: 55\n",
      "File: 56\n",
      "File: 57\n",
      "File: 58\n",
      "File: 59\n",
      "File: 60\n",
      "File: 61\n",
      "File: 62\n",
      "File: 63\n",
      "File: 64\n",
      "File: 65\n",
      "File: 66\n",
      "File: 67\n",
      "File: 68\n"
     ]
    }
   ],
   "source": [
    "read_files(label_files)"
   ]
  }
 ],
 "metadata": {
  "kernelspec": {
   "display_name": "Python 3 (ipykernel)",
   "language": "python",
   "name": "python3"
  },
  "language_info": {
   "codemirror_mode": {
    "name": "ipython",
    "version": 3
   },
   "file_extension": ".py",
   "mimetype": "text/x-python",
   "name": "python",
   "nbconvert_exporter": "python",
   "pygments_lexer": "ipython3",
   "version": "3.9.7"
  }
 },
 "nbformat": 4,
 "nbformat_minor": 5
}
