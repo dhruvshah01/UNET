{
 "cells": [
  {
   "cell_type": "markdown",
   "id": "0971fd0b",
   "metadata": {},
   "source": [
    "# Importing Libraries"
   ]
  },
  {
   "cell_type": "code",
   "execution_count": 1,
   "id": "beea7945",
   "metadata": {},
   "outputs": [
    {
     "name": "stderr",
     "output_type": "stream",
     "text": [
      "2023-12-08 15:16:19.994895: I tensorflow/stream_executor/platform/default/dso_loader.cc:53] Successfully opened dynamic library libcudart.so.11.0\n"
     ]
    }
   ],
   "source": [
    "import tensorflow as tf"
   ]
  },
  {
   "cell_type": "code",
   "execution_count": 2,
   "id": "917ca24c",
   "metadata": {},
   "outputs": [
    {
     "name": "stdout",
     "output_type": "stream",
     "text": [
      "2.5.0\n"
     ]
    }
   ],
   "source": [
    "print(tf.__version__)"
   ]
  },
  {
   "cell_type": "code",
   "execution_count": 3,
   "id": "d792355b",
   "metadata": {},
   "outputs": [],
   "source": [
    "from tensorflow.keras import Model\n",
    "from tensorflow.keras.layers import Input, Conv3D, MaxPooling3D, UpSampling3D, concatenate"
   ]
  },
  {
   "cell_type": "code",
   "execution_count": 4,
   "id": "2d1bdedd",
   "metadata": {},
   "outputs": [],
   "source": [
    "import sys\n",
    "sys.path.append('../../_EXPERIMENTS')"
   ]
  },
  {
   "cell_type": "code",
   "execution_count": 5,
   "id": "511db049",
   "metadata": {},
   "outputs": [],
   "source": [
    "#import cactas as C\n",
    "import os\n",
    "import random\n",
    "import numpy as np\n",
    "import nrrd"
   ]
  },
  {
   "cell_type": "code",
   "execution_count": 6,
   "id": "1e485941",
   "metadata": {},
   "outputs": [
    {
     "name": "stdout",
     "output_type": "stream",
     "text": [
      "WARNING:tensorflow:From /tmp/ipykernel_1228788/3939592.py:1: is_gpu_available (from tensorflow.python.framework.test_util) is deprecated and will be removed in a future version.\n",
      "Instructions for updating:\n",
      "Use `tf.config.list_physical_devices('GPU')` instead.\n"
     ]
    },
    {
     "name": "stderr",
     "output_type": "stream",
     "text": [
      "2023-12-08 15:16:26.271796: I tensorflow/core/platform/cpu_feature_guard.cc:142] This TensorFlow binary is optimized with oneAPI Deep Neural Network Library (oneDNN) to use the following CPU instructions in performance-critical operations:  AVX2 FMA\n",
      "To enable them in other operations, rebuild TensorFlow with the appropriate compiler flags.\n",
      "2023-12-08 15:16:26.275225: I tensorflow/stream_executor/platform/default/dso_loader.cc:53] Successfully opened dynamic library libcuda.so.1\n",
      "2023-12-08 15:16:26.441193: I tensorflow/core/common_runtime/gpu/gpu_device.cc:1733] Found device 0 with properties: \n",
      "pciBusID: 0000:07:00.0 name: A100-SXM4-40GB computeCapability: 8.0\n",
      "coreClock: 1.41GHz coreCount: 108 deviceMemorySize: 39.59GiB deviceMemoryBandwidth: 1.41TiB/s\n",
      "2023-12-08 15:16:26.441230: I tensorflow/stream_executor/platform/default/dso_loader.cc:53] Successfully opened dynamic library libcudart.so.11.0\n",
      "2023-12-08 15:16:26.463355: I tensorflow/stream_executor/platform/default/dso_loader.cc:53] Successfully opened dynamic library libcublas.so.11\n",
      "2023-12-08 15:16:26.463393: I tensorflow/stream_executor/platform/default/dso_loader.cc:53] Successfully opened dynamic library libcublasLt.so.11\n",
      "2023-12-08 15:16:26.471329: I tensorflow/stream_executor/platform/default/dso_loader.cc:53] Successfully opened dynamic library libcufft.so.10\n",
      "2023-12-08 15:16:26.474909: I tensorflow/stream_executor/platform/default/dso_loader.cc:53] Successfully opened dynamic library libcurand.so.10\n",
      "2023-12-08 15:16:26.478464: I tensorflow/stream_executor/platform/default/dso_loader.cc:53] Successfully opened dynamic library libcusolver.so.11\n",
      "2023-12-08 15:16:26.484449: I tensorflow/stream_executor/platform/default/dso_loader.cc:53] Successfully opened dynamic library libcusparse.so.11\n",
      "2023-12-08 15:16:26.486300: I tensorflow/stream_executor/platform/default/dso_loader.cc:53] Successfully opened dynamic library libcudnn.so.8\n",
      "2023-12-08 15:16:26.491938: I tensorflow/core/common_runtime/gpu/gpu_device.cc:1871] Adding visible gpu devices: 0\n",
      "2023-12-08 15:16:26.492269: I tensorflow/stream_executor/platform/default/dso_loader.cc:53] Successfully opened dynamic library libcudart.so.11.0\n",
      "2023-12-08 15:16:27.308216: I tensorflow/core/common_runtime/gpu/gpu_device.cc:1258] Device interconnect StreamExecutor with strength 1 edge matrix:\n",
      "2023-12-08 15:16:27.308264: I tensorflow/core/common_runtime/gpu/gpu_device.cc:1264]      0 \n",
      "2023-12-08 15:16:27.308270: I tensorflow/core/common_runtime/gpu/gpu_device.cc:1277] 0:   N \n",
      "2023-12-08 15:16:27.315850: I tensorflow/core/common_runtime/gpu/gpu_device.cc:1418] Created TensorFlow device (/device:GPU:0 with 38425 MB memory) -> physical GPU (device: 0, name: A100-SXM4-40GB, pci bus id: 0000:07:00.0, compute capability: 8.0)\n"
     ]
    },
    {
     "data": {
      "text/plain": [
       "True"
      ]
     },
     "execution_count": 6,
     "metadata": {},
     "output_type": "execute_result"
    }
   ],
   "source": [
    "gpu_available = tf.test.is_gpu_available()\n",
    "gpu_available"
   ]
  },
  {
   "cell_type": "code",
   "execution_count": 7,
   "id": "7a765e20",
   "metadata": {},
   "outputs": [],
   "source": [
    "import random\n",
    "from tensorflow.keras.optimizers import Adam\n"
   ]
  },
  {
   "cell_type": "code",
   "execution_count": 8,
   "id": "161674ba",
   "metadata": {},
   "outputs": [],
   "source": [
    "from tensorflow.keras import backend as K"
   ]
  },
  {
   "cell_type": "markdown",
   "id": "9f07c207",
   "metadata": {},
   "source": [
    "# Defining Functions"
   ]
  },
  {
   "cell_type": "code",
   "execution_count": 9,
   "id": "76cfade5",
   "metadata": {},
   "outputs": [],
   "source": [
    "def load_padded_images(IMG_DATAPATH):\n",
    "    directory = IMG_DATAPATH\n",
    "    min_filesize_bytes = 15728640 #15MB\n",
    "    images = []\n",
    "    for filename in os.listdir(directory):\n",
    "        if (filename.startswith(\".ipynb_checkpoints\")):\n",
    "            print()\n",
    "        else:\n",
    "            images.append(filename)\n",
    "    return images"
   ]
  },
  {
   "cell_type": "code",
   "execution_count": 10,
   "id": "7cd351b3",
   "metadata": {},
   "outputs": [],
   "source": [
    "def load_padded_labels(LAB_DATAPATH):\n",
    "    directory = LAB_DATAPATH\n",
    "    min_filesize_bytes = 15728640 #15MB\n",
    "    labels = []\n",
    "    for filename in os.listdir(directory):\n",
    "        if (filename.startswith(\".ipynb_checkpoints\")):\n",
    "            print()\n",
    "        else:\n",
    "            labels.append(filename)\n",
    "    return labels"
   ]
  },
  {
   "cell_type": "code",
   "execution_count": 11,
   "id": "529fdaee",
   "metadata": {},
   "outputs": [],
   "source": [
    "def buildModel(input_shape):\n",
    "    inputs = Input(input_shape)\n",
    "    conv1 = Conv3D(64, (3, 3, 3), activation='relu', padding='same')(inputs)\n",
    "    pool1 = MaxPooling3D(pool_size=(2, 2, 2))(conv1)\n",
    "\n",
    "    conv2 = Conv3D(128, (3, 3, 3), activation='relu', padding='same')(pool1)\n",
    "    pool2 = MaxPooling3D(pool_size=(2, 2, 2))(conv2)\n",
    "\n",
    "    conv3 = Conv3D(256, (3, 3, 3), activation='relu', padding='same')(pool2)\n",
    "\n",
    "    up4 = concatenate([UpSampling3D(size=(2, 2, 2))(conv3), conv2], axis=-1)\n",
    "    conv4 = Conv3D(128, (3, 3, 3), activation='relu', padding='same')(up4)\n",
    "\n",
    "    up5 = concatenate([UpSampling3D(size=(2, 2, 2))(conv4), conv1], axis=-1)\n",
    "    conv5 = Conv3D(64, (3, 3, 3), activation='relu', padding='same')(up5)\n",
    "\n",
    "    conv6 = Conv3D(1, (1, 1, 1), activation='sigmoid')(conv5)\n",
    "\n",
    "    model = Model(inputs=[inputs], outputs=[conv6])\n",
    "\n",
    "    return model"
   ]
  },
  {
   "cell_type": "code",
   "execution_count": 12,
   "id": "95c0ba3e",
   "metadata": {},
   "outputs": [],
   "source": [
    "def split_data(images, labels, split_ratio=0.8):\n",
    "    \n",
    "    data = list(zip(images, labels))\n",
    "    \n",
    "    random.shuffle(data)\n",
    "\n",
    "  # Get the split index\n",
    "    split_index = int(len(data) * split_ratio)\n",
    "\n",
    "  # Split data into train and test\n",
    "    train_data = data[:split_index]\n",
    "    test_data = data[split_index:]\n",
    "\n",
    "  # Separate into images and labels\n",
    "    X_train, y_train = zip(*train_data) \n",
    "    X_test, y_test = zip(*test_data)\n",
    "   \n",
    "    return X_train, X_test, y_train, y_test"
   ]
  },
  {
   "cell_type": "code",
   "execution_count": 13,
   "id": "2e6ef91c",
   "metadata": {},
   "outputs": [],
   "source": [
    "def batch_normalize(data_path, file_list, batch_size):\n",
    "    normalized_data = []\n",
    "    for file in file_list:\n",
    "        data, header = nrrd.read(data_path + \"/\" + file)\n",
    "        normalized_data.append((data - np.min(data)) / (np.max(data) - np.min(data)))\n",
    "\n",
    "        if len(normalized_data) == batch_size:\n",
    "            yield normalized_data\n",
    "            normalized_data = []\n",
    "\n",
    "    if normalized_data:\n",
    "        yield normalized_data"
   ]
  },
  {
   "cell_type": "code",
   "execution_count": 14,
   "id": "a37f1bd1",
   "metadata": {},
   "outputs": [],
   "source": [
    "def normalization(IMG_DATAPATH, LAB_DATAPATH, X_train, y_train, X_test, y_test, batch_size):\n",
    "    norm_X_train = []\n",
    "#    norm_y_train = []\n",
    "    norm_X_test = []\n",
    "#    norm_y_test = []\n",
    "\n",
    "    for batch in batch_normalize(IMG_DATAPATH, X_train, batch_size):\n",
    "        norm_X_train.extend(batch)\n",
    "    \n",
    "#     for batch in batch_normalize(LAB_DATAPATH, y_train, batch_size):\n",
    "#         norm_y_train.extend(batch)\n",
    "\n",
    "    for batch in batch_normalize(IMG_DATAPATH, X_test, batch_size):\n",
    "        norm_X_test.extend(batch)\n",
    "    \n",
    "#     for batch in batch_normalize(LAB_DATAPATH, y_test, batch_size):\n",
    "#         norm_y_test.extend(batch)\n",
    "\n",
    "    return norm_X_train, norm_X_test"
   ]
  },
  {
   "cell_type": "code",
   "execution_count": 15,
   "id": "591b0195",
   "metadata": {},
   "outputs": [],
   "source": [
    "def extract_slices_3d(X_train, y_train, X_test, y_test):\n",
    "    \n",
    "    \n",
    "    slices = []\n",
    "    for i in range(X_train.shape[0]):\n",
    "        slice_3d = X_train[i]\n",
    "        slices.append(slice_3d)\n",
    "    X_train_array = np.array(slices)\n",
    "\n",
    "    slices2 = []\n",
    "    for i in range(X_test.shape[0]):\n",
    "        slice_3d = X_test[i]\n",
    "        slices2.append(slice_3d)\n",
    "    X_test_array = np.array(slices2)\n",
    "\n",
    "    # Process target data (y_train and y_test)\n",
    "    new_slices = []\n",
    "    for i in range(y_train.shape[0]):\n",
    "        slice_3d = y_train[i]\n",
    "        slices = np.where(slice_3d != 0, True, False)\n",
    "        new_slices.append(slices)\n",
    "    y_train_array = np.array(new_slices)\n",
    "\n",
    "    new_slices2 = []\n",
    "    for i in range(y_test.shape[0]):\n",
    "        slice_3d = y_test[i]\n",
    "        slices = np.where(slice_3d != 0, True, False)\n",
    "        new_slices2.append(slices)\n",
    "    y_test_array = np.array(new_slices2)\n",
    "\n",
    "    \n",
    "    print(X_train_array.shape, y_train_array.shape, X_test_array.shape, y_test_array.shape)\n",
    "\n",
    "    return X_train_array, y_train_array, X_test_array, y_test_array"
   ]
  },
  {
   "cell_type": "code",
   "execution_count": 16,
   "id": "99d18670",
   "metadata": {},
   "outputs": [],
   "source": [
    "def parse_y(data_path, y_train, y_test):\n",
    "    norm_y_train = []\n",
    "    norm_y_test = []\n",
    "    for file in y_train:\n",
    "        data, header = nrrd.read(data_path + \"/\" + file)\n",
    "        norm_y_train.append(data)\n",
    "    \n",
    "    for file in y_test:\n",
    "        data, header = nrrd.read(data_path + \"/\" + file)\n",
    "        norm_y_test.append(data)\n",
    "        \n",
    "    return norm_y_train, norm_y_test"
   ]
  },
  {
   "cell_type": "code",
   "execution_count": 17,
   "id": "31d5fe7d",
   "metadata": {},
   "outputs": [],
   "source": [
    "def iou(y_true, y_pred, smooth=1.):\n",
    "    y_true_f = K.flatten(y_true)\n",
    "    y_pred_f = K.flatten(y_pred)\n",
    "    intersection = K.sum(y_true_f * y_pred_f)\n",
    "    return (intersection + smooth) / (K.sum(y_true_f) + K.sum(y_pred_f) - intersection + smooth)"
   ]
  },
  {
   "cell_type": "code",
   "execution_count": 18,
   "id": "4d91ba36",
   "metadata": {},
   "outputs": [],
   "source": [
    "def jaccard_coef(y_true, y_pred):\n",
    "    intersection = K.sum(y_true * y_pred)\n",
    "    union = K.sum(y_true + y_pred)\n",
    "    jac = (intersection + 1.) / (union - intersection + 1.)\n",
    "    return K.mean(jac)"
   ]
  },
  {
   "cell_type": "code",
   "execution_count": 19,
   "id": "94b5403d",
   "metadata": {},
   "outputs": [],
   "source": [
    "def iou_thresholded(y_true, y_pred, threshold=0.5, smooth=1.):\n",
    "    y_pred = threshold_binarize(y_pred, threshold)\n",
    "    y_true_f = K.flatten(y_true)\n",
    "    y_pred_f = K.flatten(y_pred)\n",
    "    intersection = K.sum(y_true_f * y_pred_f)\n",
    "    return (intersection + smooth) / (K.sum(y_true_f) + K.sum(y_pred_f) - intersection + smooth)\n",
    "\n",
    "\n",
    "def dice_coef(y_true, y_pred, smooth=1.):\n",
    "    y_true_f = K.flatten(y_true)\n",
    "    y_pred_f = K.flatten(y_pred)\n",
    "    intersection = K.sum(y_true_f * y_pred_f)\n",
    "    return (2. * intersection + smooth) / (\n",
    "                K.sum(y_true_f) + K.sum(y_pred_f) + smooth)"
   ]
  },
  {
   "cell_type": "markdown",
   "id": "4e2a4455",
   "metadata": {},
   "source": [
    "# Loading Data and Normalizing"
   ]
  },
  {
   "cell_type": "code",
   "execution_count": 42,
   "id": "afff7a57",
   "metadata": {},
   "outputs": [],
   "source": [
    "IMG_DATAPATH = os.path.join('ChunksESUS')\n",
    "LAB_DATAPATH = os.path.join('Chunks_Labels_ESUS')"
   ]
  },
  {
   "cell_type": "code",
   "execution_count": 43,
   "id": "954020cc",
   "metadata": {},
   "outputs": [
    {
     "name": "stdout",
     "output_type": "stream",
     "text": [
      "\n",
      "\n"
     ]
    }
   ],
   "source": [
    "images = load_padded_images(IMG_DATAPATH)\n",
    "labels = load_padded_labels(LAB_DATAPATH)"
   ]
  },
  {
   "cell_type": "code",
   "execution_count": 44,
   "id": "c04fb2d2",
   "metadata": {},
   "outputs": [
    {
     "data": {
      "text/plain": [
       "3264"
      ]
     },
     "execution_count": 44,
     "metadata": {},
     "output_type": "execute_result"
    }
   ],
   "source": [
    "len(images)"
   ]
  },
  {
   "cell_type": "code",
   "execution_count": 45,
   "id": "36a3d284",
   "metadata": {},
   "outputs": [],
   "source": [
    "X_train, X_test, y_train, y_test = split_data(images, labels)"
   ]
  },
  {
   "cell_type": "code",
   "execution_count": 46,
   "id": "9960e218",
   "metadata": {},
   "outputs": [],
   "source": [
    "percentage_to_select = 20\n",
    "\n",
    "num_samples_to_select = int(len(X_train) * percentage_to_select / 100)\n",
    "\n",
    "random_indices = random.sample(range(len(X_train)), num_samples_to_select)\n",
    "\n",
    "X_train_selected = [X_train[i] for i in random_indices]\n",
    "y_train_selected = [y_train[i] for i in random_indices]\n",
    "\n",
    "num_samples_to_select = int(len(X_test) * percentage_to_select / 100)\n",
    "random_indices = random.sample(range(len(X_test)), num_samples_to_select)\n",
    "X_test_selected = [X_test[i] for i in random_indices]\n",
    "y_test_selected = [y_test[i] for i in random_indices]"
   ]
  },
  {
   "cell_type": "code",
   "execution_count": 47,
   "id": "37ce6f96",
   "metadata": {
    "scrolled": true
   },
   "outputs": [
    {
     "data": {
      "text/plain": [
       "522"
      ]
     },
     "execution_count": 47,
     "metadata": {},
     "output_type": "execute_result"
    }
   ],
   "source": [
    "len(X_train_selected)"
   ]
  },
  {
   "cell_type": "code",
   "execution_count": 26,
   "id": "f2d546a8",
   "metadata": {},
   "outputs": [
    {
     "name": "stderr",
     "output_type": "stream",
     "text": [
      "/tmp/ipykernel_1228788/1398699592.py:5: RuntimeWarning: invalid value encountered in true_divide\n",
      "  normalized_data.append((data - np.min(data)) / (np.max(data) - np.min(data)))\n"
     ]
    }
   ],
   "source": [
    "X_train, X_test = normalization(IMG_DATAPATH, LAB_DATAPATH, X_train_selected, y_train_selected, X_test_selected, y_test_selected, 2)"
   ]
  },
  {
   "cell_type": "code",
   "execution_count": 48,
   "id": "16edaf03",
   "metadata": {},
   "outputs": [],
   "source": [
    "y_train, y_test = parse_y(LAB_DATAPATH, y_train_selected, y_test_selected)"
   ]
  },
  {
   "cell_type": "code",
   "execution_count": 50,
   "id": "d2814725",
   "metadata": {},
   "outputs": [
    {
     "data": {
      "text/plain": [
       "True"
      ]
     },
     "execution_count": 50,
     "metadata": {},
     "output_type": "execute_result"
    }
   ],
   "source": [
    "np.any(y_train != 0)"
   ]
  },
  {
   "cell_type": "code",
   "execution_count": 52,
   "id": "4838e8e5",
   "metadata": {},
   "outputs": [],
   "source": [
    "arr = np.nonzero(y_train)"
   ]
  },
  {
   "cell_type": "code",
   "execution_count": 54,
   "id": "04593746",
   "metadata": {},
   "outputs": [
    {
     "name": "stdout",
     "output_type": "stream",
     "text": [
      "(4, 6697)\n"
     ]
    }
   ],
   "source": [
    "print(np.shape(arr))"
   ]
  },
  {
   "cell_type": "code",
   "execution_count": 41,
   "id": "a628d9e9",
   "metadata": {},
   "outputs": [
    {
     "data": {
      "text/plain": [
       "array([[[[       nan,        nan,        nan, ...,        nan,\n",
       "                 nan,        nan],\n",
       "         [       nan,        nan,        nan, ...,        nan,\n",
       "                 nan,        nan],\n",
       "         [       nan,        nan,        nan, ...,        nan,\n",
       "                 nan,        nan],\n",
       "         ...,\n",
       "         [       nan,        nan,        nan, ...,        nan,\n",
       "                 nan,        nan],\n",
       "         [       nan,        nan,        nan, ...,        nan,\n",
       "                 nan,        nan],\n",
       "         [       nan,        nan,        nan, ...,        nan,\n",
       "                 nan,        nan]],\n",
       "\n",
       "        [[       nan,        nan,        nan, ...,        nan,\n",
       "                 nan,        nan],\n",
       "         [       nan,        nan,        nan, ...,        nan,\n",
       "                 nan,        nan],\n",
       "         [       nan,        nan,        nan, ...,        nan,\n",
       "                 nan,        nan],\n",
       "         ...,\n",
       "         [       nan,        nan,        nan, ...,        nan,\n",
       "                 nan,        nan],\n",
       "         [       nan,        nan,        nan, ...,        nan,\n",
       "                 nan,        nan],\n",
       "         [       nan,        nan,        nan, ...,        nan,\n",
       "                 nan,        nan]],\n",
       "\n",
       "        [[       nan,        nan,        nan, ...,        nan,\n",
       "                 nan,        nan],\n",
       "         [       nan,        nan,        nan, ...,        nan,\n",
       "                 nan,        nan],\n",
       "         [       nan,        nan,        nan, ...,        nan,\n",
       "                 nan,        nan],\n",
       "         ...,\n",
       "         [       nan,        nan,        nan, ...,        nan,\n",
       "                 nan,        nan],\n",
       "         [       nan,        nan,        nan, ...,        nan,\n",
       "                 nan,        nan],\n",
       "         [       nan,        nan,        nan, ...,        nan,\n",
       "                 nan,        nan]],\n",
       "\n",
       "        ...,\n",
       "\n",
       "        [[       nan,        nan,        nan, ...,        nan,\n",
       "                 nan,        nan],\n",
       "         [       nan,        nan,        nan, ...,        nan,\n",
       "                 nan,        nan],\n",
       "         [       nan,        nan,        nan, ...,        nan,\n",
       "                 nan,        nan],\n",
       "         ...,\n",
       "         [       nan,        nan,        nan, ...,        nan,\n",
       "                 nan,        nan],\n",
       "         [       nan,        nan,        nan, ...,        nan,\n",
       "                 nan,        nan],\n",
       "         [       nan,        nan,        nan, ...,        nan,\n",
       "                 nan,        nan]],\n",
       "\n",
       "        [[       nan,        nan,        nan, ...,        nan,\n",
       "                 nan,        nan],\n",
       "         [       nan,        nan,        nan, ...,        nan,\n",
       "                 nan,        nan],\n",
       "         [       nan,        nan,        nan, ...,        nan,\n",
       "                 nan,        nan],\n",
       "         ...,\n",
       "         [       nan,        nan,        nan, ...,        nan,\n",
       "                 nan,        nan],\n",
       "         [       nan,        nan,        nan, ...,        nan,\n",
       "                 nan,        nan],\n",
       "         [       nan,        nan,        nan, ...,        nan,\n",
       "                 nan,        nan]],\n",
       "\n",
       "        [[       nan,        nan,        nan, ...,        nan,\n",
       "                 nan,        nan],\n",
       "         [       nan,        nan,        nan, ...,        nan,\n",
       "                 nan,        nan],\n",
       "         [       nan,        nan,        nan, ...,        nan,\n",
       "                 nan,        nan],\n",
       "         ...,\n",
       "         [       nan,        nan,        nan, ...,        nan,\n",
       "                 nan,        nan],\n",
       "         [       nan,        nan,        nan, ...,        nan,\n",
       "                 nan,        nan],\n",
       "         [       nan,        nan,        nan, ...,        nan,\n",
       "                 nan,        nan]]],\n",
       "\n",
       "\n",
       "       [[[       nan,        nan,        nan, ...,        nan,\n",
       "                 nan,        nan],\n",
       "         [       nan,        nan,        nan, ...,        nan,\n",
       "                 nan,        nan],\n",
       "         [       nan,        nan,        nan, ...,        nan,\n",
       "                 nan,        nan],\n",
       "         ...,\n",
       "         [       nan,        nan,        nan, ...,        nan,\n",
       "                 nan,        nan],\n",
       "         [       nan,        nan,        nan, ...,        nan,\n",
       "                 nan,        nan],\n",
       "         [       nan,        nan,        nan, ...,        nan,\n",
       "                 nan,        nan]],\n",
       "\n",
       "        [[       nan,        nan,        nan, ...,        nan,\n",
       "                 nan,        nan],\n",
       "         [       nan,        nan,        nan, ...,        nan,\n",
       "                 nan,        nan],\n",
       "         [       nan,        nan,        nan, ...,        nan,\n",
       "                 nan,        nan],\n",
       "         ...,\n",
       "         [       nan,        nan,        nan, ...,        nan,\n",
       "                 nan,        nan],\n",
       "         [       nan,        nan,        nan, ...,        nan,\n",
       "                 nan,        nan],\n",
       "         [       nan,        nan,        nan, ...,        nan,\n",
       "                 nan,        nan]],\n",
       "\n",
       "        [[       nan,        nan,        nan, ...,        nan,\n",
       "                 nan,        nan],\n",
       "         [       nan,        nan,        nan, ...,        nan,\n",
       "                 nan,        nan],\n",
       "         [       nan,        nan,        nan, ...,        nan,\n",
       "                 nan,        nan],\n",
       "         ...,\n",
       "         [       nan,        nan,        nan, ...,        nan,\n",
       "                 nan,        nan],\n",
       "         [       nan,        nan,        nan, ...,        nan,\n",
       "                 nan,        nan],\n",
       "         [       nan,        nan,        nan, ...,        nan,\n",
       "                 nan,        nan]],\n",
       "\n",
       "        ...,\n",
       "\n",
       "        [[       nan,        nan,        nan, ...,        nan,\n",
       "                 nan,        nan],\n",
       "         [       nan,        nan,        nan, ...,        nan,\n",
       "                 nan,        nan],\n",
       "         [       nan,        nan,        nan, ...,        nan,\n",
       "                 nan,        nan],\n",
       "         ...,\n",
       "         [       nan,        nan,        nan, ...,        nan,\n",
       "                 nan,        nan],\n",
       "         [       nan,        nan,        nan, ...,        nan,\n",
       "                 nan,        nan],\n",
       "         [       nan,        nan,        nan, ...,        nan,\n",
       "                 nan,        nan]],\n",
       "\n",
       "        [[       nan,        nan,        nan, ...,        nan,\n",
       "                 nan,        nan],\n",
       "         [       nan,        nan,        nan, ...,        nan,\n",
       "                 nan,        nan],\n",
       "         [       nan,        nan,        nan, ...,        nan,\n",
       "                 nan,        nan],\n",
       "         ...,\n",
       "         [       nan,        nan,        nan, ...,        nan,\n",
       "                 nan,        nan],\n",
       "         [       nan,        nan,        nan, ...,        nan,\n",
       "                 nan,        nan],\n",
       "         [       nan,        nan,        nan, ...,        nan,\n",
       "                 nan,        nan]],\n",
       "\n",
       "        [[       nan,        nan,        nan, ...,        nan,\n",
       "                 nan,        nan],\n",
       "         [       nan,        nan,        nan, ...,        nan,\n",
       "                 nan,        nan],\n",
       "         [       nan,        nan,        nan, ...,        nan,\n",
       "                 nan,        nan],\n",
       "         ...,\n",
       "         [       nan,        nan,        nan, ...,        nan,\n",
       "                 nan,        nan],\n",
       "         [       nan,        nan,        nan, ...,        nan,\n",
       "                 nan,        nan],\n",
       "         [       nan,        nan,        nan, ...,        nan,\n",
       "                 nan,        nan]]],\n",
       "\n",
       "\n",
       "       [[[0.01031746, 0.00952381, 0.00714286, ..., 0.40634921,\n",
       "          0.40634921, 0.40634921],\n",
       "         [0.01150794, 0.01071429, 0.00912698, ..., 0.40634921,\n",
       "          0.40634921, 0.40634921],\n",
       "         [0.01150794, 0.01190476, 0.01150794, ..., 0.40634921,\n",
       "          0.40634921, 0.40634921],\n",
       "         ...,\n",
       "         [0.00873016, 0.00833333, 0.00595238, ..., 0.40634921,\n",
       "          0.40634921, 0.40634921],\n",
       "         [0.00753968, 0.00753968, 0.00634921, ..., 0.40634921,\n",
       "          0.40634921, 0.40634921],\n",
       "         [0.00793651, 0.00952381, 0.00714286, ..., 0.40634921,\n",
       "          0.40634921, 0.40634921]],\n",
       "\n",
       "        [[0.00912698, 0.00793651, 0.00714286, ..., 0.40634921,\n",
       "          0.40634921, 0.40634921],\n",
       "         [0.01071429, 0.01031746, 0.00793651, ..., 0.40634921,\n",
       "          0.40634921, 0.40634921],\n",
       "         [0.01230159, 0.01269841, 0.01031746, ..., 0.40634921,\n",
       "          0.40634921, 0.40634921],\n",
       "         ...,\n",
       "         [0.00952381, 0.00833333, 0.00515873, ..., 0.40634921,\n",
       "          0.40634921, 0.40634921],\n",
       "         [0.00833333, 0.00753968, 0.00515873, ..., 0.40634921,\n",
       "          0.40634921, 0.40634921],\n",
       "         [0.00753968, 0.00873016, 0.00595238, ..., 0.40634921,\n",
       "          0.40634921, 0.40634921]],\n",
       "\n",
       "        [[0.00515873, 0.00436508, 0.00674603, ..., 0.40634921,\n",
       "          0.40634921, 0.40634921],\n",
       "         [0.00674603, 0.00595238, 0.0047619 , ..., 0.40634921,\n",
       "          0.40634921, 0.40634921],\n",
       "         [0.01031746, 0.01031746, 0.00634921, ..., 0.40634921,\n",
       "          0.40634921, 0.40634921],\n",
       "         ...,\n",
       "         [0.00873016, 0.00753968, 0.00436508, ..., 0.40634921,\n",
       "          0.40634921, 0.40634921],\n",
       "         [0.00793651, 0.00674603, 0.00436508, ..., 0.40634921,\n",
       "          0.40634921, 0.40634921],\n",
       "         [0.00714286, 0.00714286, 0.00436508, ..., 0.40634921,\n",
       "          0.40634921, 0.40634921]],\n",
       "\n",
       "        ...,\n",
       "\n",
       "        [[0.01230159, 0.01071429, 0.00793651, ..., 0.40634921,\n",
       "          0.40634921, 0.40634921],\n",
       "         [0.01309524, 0.01031746, 0.00753968, ..., 0.40634921,\n",
       "          0.40634921, 0.40634921],\n",
       "         [0.01269841, 0.01071429, 0.00833333, ..., 0.40634921,\n",
       "          0.40634921, 0.40634921],\n",
       "         ...,\n",
       "         [0.37777778, 0.3765873 , 0.3968254 , ..., 0.40634921,\n",
       "          0.40634921, 0.40634921],\n",
       "         [0.3781746 , 0.37619048, 0.39285714, ..., 0.40634921,\n",
       "          0.40634921, 0.40634921],\n",
       "         [0.37857143, 0.3765873 , 0.39087302, ..., 0.40634921,\n",
       "          0.40634921, 0.40634921]],\n",
       "\n",
       "        [[0.01031746, 0.01071429, 0.00833333, ..., 0.40634921,\n",
       "          0.40634921, 0.40634921],\n",
       "         [0.01111111, 0.01031746, 0.00753968, ..., 0.40634921,\n",
       "          0.40634921, 0.40634921],\n",
       "         [0.01190476, 0.00992063, 0.00714286, ..., 0.40634921,\n",
       "          0.40634921, 0.40634921],\n",
       "         ...,\n",
       "         [0.37857143, 0.37420635, 0.39087302, ..., 0.40634921,\n",
       "          0.40634921, 0.40634921],\n",
       "         [0.3797619 , 0.37261905, 0.38730159, ..., 0.40634921,\n",
       "          0.40634921, 0.40634921],\n",
       "         [0.38095238, 0.3734127 , 0.38134921, ..., 0.40634921,\n",
       "          0.40634921, 0.40634921]],\n",
       "\n",
       "        [[0.00873016, 0.01071429, 0.01031746, ..., 0.40634921,\n",
       "          0.40634921, 0.40634921],\n",
       "         [0.00952381, 0.01111111, 0.00952381, ..., 0.40634921,\n",
       "          0.40634921, 0.40634921],\n",
       "         [0.00992063, 0.01031746, 0.00833333, ..., 0.40634921,\n",
       "          0.40634921, 0.40634921],\n",
       "         ...,\n",
       "         [0.37896825, 0.37301587, 0.38134921, ..., 0.40634921,\n",
       "          0.40634921, 0.40634921],\n",
       "         [0.38095238, 0.37103175, 0.37698413, ..., 0.40634921,\n",
       "          0.40634921, 0.40634921],\n",
       "         [0.38333333, 0.37103175, 0.3718254 , ..., 0.40634921,\n",
       "          0.40634921, 0.40634921]]],\n",
       "\n",
       "\n",
       "       ...,\n",
       "\n",
       "\n",
       "       [[[0.18646934, 0.32980973, 0.17801268, ..., 0.43678647,\n",
       "          0.44693446, 0.49344609],\n",
       "         [0.17251586, 0.28879493, 0.17674419, ..., 0.43551797,\n",
       "          0.4448203 , 0.4782241 ],\n",
       "         [0.16490486, 0.23340381, 0.16997886, ..., 0.42706131,\n",
       "          0.4397463 , 0.46173362],\n",
       "         ...,\n",
       "         [0.27610994, 0.27019027, 0.31035941, ..., 0.00972516,\n",
       "          0.01437632, 0.01395349],\n",
       "         [0.29809725, 0.28498943, 0.34376321, ..., 0.00718816,\n",
       "          0.01226216, 0.01183932],\n",
       "         [0.31627907, 0.30190275, 0.36448203, ..., 0.00634249,\n",
       "          0.01057082, 0.01014799]],\n",
       "\n",
       "        [[0.16617336, 0.34883721, 0.19788584, ..., 0.42325581,\n",
       "          0.43382664, 0.46384778],\n",
       "         [0.1551797 , 0.32938689, 0.21226216, ..., 0.41987315,\n",
       "          0.43255814, 0.46046512],\n",
       "         [0.1551797 , 0.2807611 , 0.21775899, ..., 0.41099366,\n",
       "          0.42790698, 0.45369979],\n",
       "         ...,\n",
       "         [0.27272727, 0.2756871 , 0.31754757, ..., 0.01353066,\n",
       "          0.01437632, 0.01141649],\n",
       "         [0.29344609, 0.29133192, 0.34968288, ..., 0.01099366,\n",
       "          0.01522199, 0.01310782],\n",
       "         [0.31627907, 0.31374207, 0.37124736, ..., 0.00803383,\n",
       "          0.01353066, 0.01310782]],\n",
       "\n",
       "        [[0.15264271, 0.32135307, 0.21564482, ..., 0.40887949,\n",
       "          0.42536998, 0.45285412],\n",
       "         [0.15264271, 0.33403805, 0.26173362, ..., 0.40422833,\n",
       "          0.42156448, 0.45116279],\n",
       "         [0.15687104, 0.31501057, 0.30359408, ..., 0.39957717,\n",
       "          0.41437632, 0.44524313],\n",
       "         ...,\n",
       "         [0.27272727, 0.28794926, 0.31458774, ..., 0.01268499,\n",
       "          0.00972516, 0.00718816],\n",
       "         [0.29260042, 0.30613108, 0.34799154, ..., 0.01310782,\n",
       "          0.01268499, 0.00930233],\n",
       "         [0.3192389 , 0.33319239, 0.37293869, ..., 0.01099366,\n",
       "          0.01395349, 0.01141649]],\n",
       "\n",
       "        ...,\n",
       "\n",
       "        [[0.44143763, 0.41818182, 0.42494715, ..., 0.01479915,\n",
       "          0.01310782, 0.01649049],\n",
       "         [0.44270613, 0.41691332, 0.42114165, ..., 0.01479915,\n",
       "          0.01183932, 0.01395349],\n",
       "         [0.44143763, 0.42071882, 0.41987315, ..., 0.01226216,\n",
       "          0.01353066, 0.01395349],\n",
       "         ...,\n",
       "         [0.45369979, 0.43044397, 0.44778013, ..., 0.01395349,\n",
       "          0.01353066, 0.02959831],\n",
       "         [0.44186047, 0.42156448, 0.44862579, ..., 0.01268499,\n",
       "          0.02071882, 0.04904863],\n",
       "         [0.4435518 , 0.42959831, 0.45750529, ..., 0.01564482,\n",
       "          0.03551797, 0.06088795]],\n",
       "\n",
       "        [[0.43044397, 0.40549683, 0.41014799, ..., 0.01479915,\n",
       "          0.01437632, 0.01775899],\n",
       "         [0.43340381, 0.41226216, 0.40591966, ..., 0.01522199,\n",
       "          0.01141649, 0.01226216],\n",
       "         [0.43382664, 0.41606765, 0.41014799, ..., 0.01268499,\n",
       "          0.01099366, 0.01141649],\n",
       "         ...,\n",
       "         [0.45116279, 0.43213531, 0.45496829, ..., 0.01649049,\n",
       "          0.02029598, 0.03890063],\n",
       "         [0.44312896, 0.42621564, 0.46173362, ..., 0.01479915,\n",
       "          0.02959831, 0.05158562],\n",
       "         [0.44439746, 0.43255814, 0.4832981 , ..., 0.01733615,\n",
       "          0.0435518 , 0.05835095]],\n",
       "\n",
       "        [[0.42367865, 0.4       , 0.40042283, ..., 0.01437632,\n",
       "          0.01606765, 0.01902748],\n",
       "         [0.42748414, 0.41099366, 0.39534884, ..., 0.01564482,\n",
       "          0.01268499, 0.01437632],\n",
       "         [0.43340381, 0.41818182, 0.40338266, ..., 0.01479915,\n",
       "          0.01099366, 0.01141649],\n",
       "         ...,\n",
       "         [0.44524313, 0.43636364, 0.46976744, ..., 0.02452431,\n",
       "          0.03382664, 0.04566596],\n",
       "         [0.4397463 , 0.43509514, 0.49133192, ..., 0.02579281,\n",
       "          0.0410148 , 0.04566596],\n",
       "         [0.44270613, 0.44270613, 0.53065539, ..., 0.02832981,\n",
       "          0.04778013, 0.0448203 ]]],\n",
       "\n",
       "\n",
       "       [[[0.01757812, 0.01757812, 0.02734375, ..., 1.        ,\n",
       "          1.        , 1.        ],\n",
       "         [0.01074219, 0.01757812, 0.02734375, ..., 1.        ,\n",
       "          1.        , 1.        ],\n",
       "         [0.01171875, 0.01855469, 0.015625  , ..., 1.        ,\n",
       "          1.        , 1.        ],\n",
       "         ...,\n",
       "         [0.02636719, 0.02734375, 0.0234375 , ..., 1.        ,\n",
       "          1.        , 1.        ],\n",
       "         [0.01953125, 0.01757812, 0.02832031, ..., 1.        ,\n",
       "          1.        , 1.        ],\n",
       "         [0.01660156, 0.01464844, 0.03027344, ..., 1.        ,\n",
       "          1.        , 1.        ]],\n",
       "\n",
       "        [[0.01855469, 0.02148438, 0.02148438, ..., 1.        ,\n",
       "          1.        , 1.        ],\n",
       "         [0.01464844, 0.01855469, 0.03222656, ..., 1.        ,\n",
       "          1.        , 1.        ],\n",
       "         [0.01367188, 0.01660156, 0.02832031, ..., 1.        ,\n",
       "          1.        , 1.        ],\n",
       "         ...,\n",
       "         [0.02441406, 0.02832031, 0.0234375 , ..., 1.        ,\n",
       "          1.        , 1.        ],\n",
       "         [0.02050781, 0.02148438, 0.02734375, ..., 1.        ,\n",
       "          1.        , 1.        ],\n",
       "         [0.01660156, 0.015625  , 0.03027344, ..., 1.        ,\n",
       "          1.        , 1.        ]],\n",
       "\n",
       "        [[0.02246094, 0.03027344, 0.01953125, ..., 1.        ,\n",
       "          1.        , 1.        ],\n",
       "         [0.02050781, 0.02929688, 0.03027344, ..., 1.        ,\n",
       "          1.        , 1.        ],\n",
       "         [0.02246094, 0.02441406, 0.03222656, ..., 1.        ,\n",
       "          1.        , 1.        ],\n",
       "         ...,\n",
       "         [0.02148438, 0.02636719, 0.02148438, ..., 1.        ,\n",
       "          1.        , 1.        ],\n",
       "         [0.01953125, 0.02734375, 0.02246094, ..., 1.        ,\n",
       "          1.        , 1.        ],\n",
       "         [0.015625  , 0.02148438, 0.02832031, ..., 1.        ,\n",
       "          1.        , 1.        ]],\n",
       "\n",
       "        ...,\n",
       "\n",
       "        [[0.02246094, 0.01660156, 0.02246094, ..., 1.        ,\n",
       "          1.        , 1.        ],\n",
       "         [0.02246094, 0.01757812, 0.02734375, ..., 1.        ,\n",
       "          1.        , 1.        ],\n",
       "         [0.01953125, 0.01757812, 0.02929688, ..., 1.        ,\n",
       "          1.        , 1.        ],\n",
       "         ...,\n",
       "         [0.02539062, 0.03320312, 0.03125   , ..., 1.        ,\n",
       "          1.        , 1.        ],\n",
       "         [0.02050781, 0.03027344, 0.02539062, ..., 1.        ,\n",
       "          1.        , 1.        ],\n",
       "         [0.02148438, 0.03027344, 0.02539062, ..., 1.        ,\n",
       "          1.        , 1.        ]],\n",
       "\n",
       "        [[0.01953125, 0.01757812, 0.01855469, ..., 1.        ,\n",
       "          1.        , 1.        ],\n",
       "         [0.02539062, 0.01757812, 0.02246094, ..., 1.        ,\n",
       "          1.        , 1.        ],\n",
       "         [0.02734375, 0.02246094, 0.02734375, ..., 1.        ,\n",
       "          1.        , 1.        ],\n",
       "         ...,\n",
       "         [0.03027344, 0.03320312, 0.03027344, ..., 1.        ,\n",
       "          1.        , 1.        ],\n",
       "         [0.0234375 , 0.03320312, 0.02734375, ..., 1.        ,\n",
       "          1.        , 1.        ],\n",
       "         [0.01953125, 0.03027344, 0.02539062, ..., 1.        ,\n",
       "          1.        , 1.        ]],\n",
       "\n",
       "        [[0.01464844, 0.015625  , 0.01855469, ..., 1.        ,\n",
       "          1.        , 1.        ],\n",
       "         [0.02050781, 0.01464844, 0.01660156, ..., 1.        ,\n",
       "          1.        , 1.        ],\n",
       "         [0.02636719, 0.02148438, 0.02148438, ..., 1.        ,\n",
       "          1.        , 1.        ],\n",
       "         ...,\n",
       "         [0.02929688, 0.03222656, 0.03222656, ..., 1.        ,\n",
       "          1.        , 1.        ],\n",
       "         [0.02734375, 0.03320312, 0.03125   , ..., 1.        ,\n",
       "          1.        , 1.        ],\n",
       "         [0.02246094, 0.03222656, 0.02734375, ..., 1.        ,\n",
       "          1.        , 1.        ]]],\n",
       "\n",
       "\n",
       "       [[[0.75842697, 0.75491573, 0.74438202, ..., 0.04353933,\n",
       "          0.04494382, 0.71910112],\n",
       "         [0.75140449, 0.74157303, 0.72893258, ..., 0.04283708,\n",
       "          0.04424157, 0.71910112],\n",
       "         [0.73174157, 0.72261236, 0.71839888, ..., 0.04283708,\n",
       "          0.04424157, 0.71910112],\n",
       "         ...,\n",
       "         [0.07162921, 0.07303371, 0.06811798, ..., 0.02106742,\n",
       "          0.01896067, 0.71910112],\n",
       "         [0.06741573, 0.06882022, 0.06741573, ..., 0.02176966,\n",
       "          0.01825843, 0.71910112],\n",
       "         [0.05196629, 0.05547753, 0.05547753, ..., 0.02106742,\n",
       "          0.01896067, 0.71910112]],\n",
       "\n",
       "        [[0.75632022, 0.75772472, 0.74438202, ..., 0.04424157,\n",
       "          0.04424157, 0.71910112],\n",
       "         [0.75070225, 0.74789326, 0.73384831, ..., 0.04353933,\n",
       "          0.04424157, 0.71910112],\n",
       "         [0.73103933, 0.73033708, 0.72823034, ..., 0.04283708,\n",
       "          0.04424157, 0.71910112],\n",
       "         ...,\n",
       "         [0.07303371, 0.07162921, 0.07303371, ..., 0.01966292,\n",
       "          0.01896067, 0.71910112],\n",
       "         [0.06671348, 0.06811798, 0.07092697, ..., 0.02036517,\n",
       "          0.01755618, 0.71910112],\n",
       "         [0.04845506, 0.05407303, 0.05898876, ..., 0.02036517,\n",
       "          0.01755618, 0.71910112]],\n",
       "\n",
       "        [[0.75632022, 0.75632022, 0.74859551, ..., 0.04424157,\n",
       "          0.04353933, 0.71910112],\n",
       "         [0.75210674, 0.74648876, 0.74087079, ..., 0.04424157,\n",
       "          0.04283708, 0.71910112],\n",
       "         [0.73595506, 0.73103933, 0.73103933, ..., 0.04283708,\n",
       "          0.04353933, 0.71910112],\n",
       "         ...,\n",
       "         [0.07303371, 0.06952247, 0.07724719, ..., 0.01825843,\n",
       "          0.01825843, 0.71910112],\n",
       "         [0.06671348, 0.06390449, 0.0744382 , ..., 0.01825843,\n",
       "          0.01685393, 0.71910112],\n",
       "         [0.04705056, 0.04845506, 0.05688202, ..., 0.01825843,\n",
       "          0.01615169, 0.71910112]],\n",
       "\n",
       "        ...,\n",
       "\n",
       "        [[0.01474719, 0.01615169, 0.0133427 , ..., 0.04494382,\n",
       "          0.03932584, 0.71910112],\n",
       "         [0.01544944, 0.01966292, 0.01474719, ..., 0.04494382,\n",
       "          0.03792135, 0.71910112],\n",
       "         [0.01474719, 0.02247191, 0.01755618, ..., 0.04424157,\n",
       "          0.03651685, 0.71910112],\n",
       "         ...,\n",
       "         [0.02036517, 0.01474719, 0.01755618, ..., 0.01474719,\n",
       "          0.01755618, 0.71910112],\n",
       "         [0.01685393, 0.01685393, 0.01615169, ..., 0.01404494,\n",
       "          0.01755618, 0.71910112],\n",
       "         [0.01685393, 0.01966292, 0.01685393, ..., 0.0133427 ,\n",
       "          0.01825843, 0.71910112]],\n",
       "\n",
       "        [[0.01615169, 0.0133427 , 0.0119382 , ..., 0.04564607,\n",
       "          0.0386236 , 0.71910112],\n",
       "         [0.01685393, 0.01474719, 0.0133427 , ..., 0.04494382,\n",
       "          0.0372191 , 0.71910112],\n",
       "         [0.01685393, 0.01825843, 0.01474719, ..., 0.04424157,\n",
       "          0.03581461, 0.71910112],\n",
       "         ...,\n",
       "         [0.01896067, 0.01474719, 0.01825843, ..., 0.01474719,\n",
       "          0.01615169, 0.71910112],\n",
       "         [0.01896067, 0.01544944, 0.01685393, ..., 0.01404494,\n",
       "          0.01825843, 0.71910112],\n",
       "         [0.02036517, 0.01755618, 0.01685393, ..., 0.01404494,\n",
       "          0.01896067, 0.71910112]],\n",
       "\n",
       "        [[0.01755618, 0.01615169, 0.01123596, ..., 0.04564607,\n",
       "          0.0386236 , 0.71910112],\n",
       "         [0.01825843, 0.01615169, 0.0133427 , ..., 0.04494382,\n",
       "          0.0372191 , 0.71910112],\n",
       "         [0.01896067, 0.01685393, 0.01404494, ..., 0.04494382,\n",
       "          0.03651685, 0.71910112],\n",
       "         ...,\n",
       "         [0.01755618, 0.0133427 , 0.01544944, ..., 0.01615169,\n",
       "          0.01615169, 0.71910112],\n",
       "         [0.01825843, 0.0133427 , 0.01404494, ..., 0.01685393,\n",
       "          0.01896067, 0.71910112],\n",
       "         [0.01966292, 0.01474719, 0.01474719, ..., 0.01755618,\n",
       "          0.01966292, 0.71910112]]]])"
      ]
     },
     "execution_count": 41,
     "metadata": {},
     "output_type": "execute_result"
    }
   ],
   "source": [
    "X_train."
   ]
  },
  {
   "cell_type": "code",
   "execution_count": 28,
   "id": "de4e67df",
   "metadata": {},
   "outputs": [
    {
     "data": {
      "text/plain": [
       "522"
      ]
     },
     "execution_count": 28,
     "metadata": {},
     "output_type": "execute_result"
    }
   ],
   "source": [
    "len(X_train)"
   ]
  },
  {
   "cell_type": "code",
   "execution_count": 29,
   "id": "b5a07434",
   "metadata": {},
   "outputs": [],
   "source": [
    "X_train = np.array(X_train)\n"
   ]
  },
  {
   "cell_type": "code",
   "execution_count": 30,
   "id": "c1d3f748",
   "metadata": {},
   "outputs": [],
   "source": [
    "X_test = np.array(X_test)"
   ]
  },
  {
   "cell_type": "code",
   "execution_count": 31,
   "id": "63a4af49",
   "metadata": {},
   "outputs": [
    {
     "data": {
      "text/plain": [
       "(522, 128, 128, 128)"
      ]
     },
     "execution_count": 31,
     "metadata": {},
     "output_type": "execute_result"
    }
   ],
   "source": [
    "X_train.shape"
   ]
  },
  {
   "cell_type": "code",
   "execution_count": 40,
   "id": "eeb3db0a",
   "metadata": {},
   "outputs": [
    {
     "ename": "ValueError",
     "evalue": "cannot reshape array of size 270532608 into shape (128,128,384,1)",
     "output_type": "error",
     "traceback": [
      "\u001b[0;31m---------------------------------------------------------------------------\u001b[0m",
      "\u001b[0;31mValueError\u001b[0m                                Traceback (most recent call last)",
      "\u001b[0;32m/tmp/ipykernel_3424352/346176130.py\u001b[0m in \u001b[0;36m<module>\u001b[0;34m\u001b[0m\n\u001b[0;32m----> 1\u001b[0;31m \u001b[0mX_train\u001b[0m \u001b[0;34m=\u001b[0m \u001b[0mX_train\u001b[0m\u001b[0;34m.\u001b[0m\u001b[0mreshape\u001b[0m\u001b[0;34m(\u001b[0m\u001b[0;36m128\u001b[0m\u001b[0;34m,\u001b[0m \u001b[0;36m128\u001b[0m\u001b[0;34m,\u001b[0m \u001b[0;36m384\u001b[0m\u001b[0;34m,\u001b[0m \u001b[0;36m1\u001b[0m\u001b[0;34m)\u001b[0m\u001b[0;34m\u001b[0m\u001b[0;34m\u001b[0m\u001b[0m\n\u001b[0m\u001b[1;32m      2\u001b[0m \u001b[0mX_test\u001b[0m \u001b[0;34m=\u001b[0m \u001b[0mX_test\u001b[0m\u001b[0;34m.\u001b[0m\u001b[0mreshape\u001b[0m\u001b[0;34m(\u001b[0m\u001b[0;36m128\u001b[0m\u001b[0;34m,\u001b[0m \u001b[0;36m128\u001b[0m\u001b[0;34m,\u001b[0m \u001b[0;36m384\u001b[0m\u001b[0;34m,\u001b[0m \u001b[0;36m1\u001b[0m\u001b[0;34m)\u001b[0m\u001b[0;34m\u001b[0m\u001b[0;34m\u001b[0m\u001b[0m\n",
      "\u001b[0;31mValueError\u001b[0m: cannot reshape array of size 270532608 into shape (128,128,384,1)"
     ]
    }
   ],
   "source": [
    "#X_train = X_train.reshape(128, 128, 384, 1)\n",
    "#X_test = X_test.reshape(128, 128, 384, 1)"
   ]
  },
  {
   "cell_type": "code",
   "execution_count": 32,
   "id": "90af955b",
   "metadata": {},
   "outputs": [],
   "source": [
    "y_train = np.array(y_train)"
   ]
  },
  {
   "cell_type": "code",
   "execution_count": 33,
   "id": "81dde151",
   "metadata": {},
   "outputs": [],
   "source": [
    "y_test = np.array(y_test)"
   ]
  },
  {
   "cell_type": "code",
   "execution_count": 34,
   "id": "97c2a1b0",
   "metadata": {},
   "outputs": [
    {
     "data": {
      "text/plain": [
       "(522, 128, 128, 128)"
      ]
     },
     "execution_count": 34,
     "metadata": {},
     "output_type": "execute_result"
    }
   ],
   "source": [
    "X_train.shape"
   ]
  },
  {
   "cell_type": "code",
   "execution_count": 73,
   "id": "f4cd16c5",
   "metadata": {},
   "outputs": [
    {
     "data": {
      "text/plain": [
       "783"
      ]
     },
     "execution_count": 73,
     "metadata": {},
     "output_type": "execute_result"
    }
   ],
   "source": [
    "X_train.shape[0]"
   ]
  },
  {
   "cell_type": "code",
   "execution_count": 51,
   "id": "73285d1b",
   "metadata": {},
   "outputs": [
    {
     "data": {
      "text/plain": [
       "128"
      ]
     },
     "execution_count": 51,
     "metadata": {},
     "output_type": "execute_result"
    }
   ],
   "source": [
    "X_train.shape[3]"
   ]
  },
  {
   "cell_type": "code",
   "execution_count": 52,
   "id": "7e9d3ae3",
   "metadata": {
    "scrolled": true
   },
   "outputs": [
    {
     "data": {
      "text/plain": [
       "(128, 128, 128)"
      ]
     },
     "execution_count": 52,
     "metadata": {},
     "output_type": "execute_result"
    }
   ],
   "source": [
    "X_train[0].shape"
   ]
  },
  {
   "cell_type": "code",
   "execution_count": 35,
   "id": "92ed8322",
   "metadata": {
    "scrolled": true
   },
   "outputs": [
    {
     "name": "stdout",
     "output_type": "stream",
     "text": [
      "(522, 128, 128, 128) (522, 128, 128, 128) (130, 128, 128, 128) (130, 128, 128, 128)\n"
     ]
    }
   ],
   "source": [
    "X_train, y_train, X_test, y_test = extract_slices_3d(X_train, y_train, X_test, y_test)"
   ]
  },
  {
   "cell_type": "code",
   "execution_count": 75,
   "id": "0e2c1a0f",
   "metadata": {},
   "outputs": [
    {
     "data": {
      "text/plain": [
       "(195, 128, 128, 128)"
      ]
     },
     "execution_count": 75,
     "metadata": {},
     "output_type": "execute_result"
    }
   ],
   "source": [
    "y_test.shape"
   ]
  },
  {
   "cell_type": "code",
   "execution_count": 76,
   "id": "6eb87088",
   "metadata": {},
   "outputs": [
    {
     "data": {
      "text/plain": [
       "dtype('bool')"
      ]
     },
     "execution_count": 76,
     "metadata": {},
     "output_type": "execute_result"
    }
   ],
   "source": [
    "y_test.dtype"
   ]
  },
  {
   "cell_type": "code",
   "execution_count": 77,
   "id": "946b2554",
   "metadata": {},
   "outputs": [
    {
     "data": {
      "text/plain": [
       "783"
      ]
     },
     "execution_count": 77,
     "metadata": {},
     "output_type": "execute_result"
    }
   ],
   "source": [
    "len(X_train)"
   ]
  },
  {
   "cell_type": "code",
   "execution_count": 40,
   "id": "dbc8e1bf",
   "metadata": {
    "scrolled": false
   },
   "outputs": [
    {
     "data": {
      "text/plain": [
       "(522, 128, 128, 128)"
      ]
     },
     "execution_count": 40,
     "metadata": {},
     "output_type": "execute_result"
    }
   ],
   "source": [
    "X_train.shape"
   ]
  },
  {
   "cell_type": "code",
   "execution_count": 79,
   "id": "6749b1ab",
   "metadata": {},
   "outputs": [
    {
     "data": {
      "text/plain": [
       "(195, 128, 128, 128)"
      ]
     },
     "execution_count": 79,
     "metadata": {},
     "output_type": "execute_result"
    }
   ],
   "source": [
    "X_test.shape"
   ]
  },
  {
   "cell_type": "code",
   "execution_count": 53,
   "id": "20a44f12",
   "metadata": {},
   "outputs": [
    {
     "data": {
      "text/plain": [
       "(52, 128, 128, 128)"
      ]
     },
     "execution_count": 53,
     "metadata": {},
     "output_type": "execute_result"
    }
   ],
   "source": [
    "y_train.shape"
   ]
  },
  {
   "cell_type": "code",
   "execution_count": 54,
   "id": "6c9dd36d",
   "metadata": {},
   "outputs": [
    {
     "name": "stdout",
     "output_type": "stream",
     "text": [
      "0 2097152\n"
     ]
    }
   ],
   "source": [
    "true_count = np.count_nonzero(y_train[0])\n",
    "#false_count = len(X_train[0]) - true_count\n",
    "false_count = np.count_nonzero(y_train[0] - 1)\n",
    "print(true_count, false_count)"
   ]
  },
  {
   "cell_type": "markdown",
   "id": "1860df25",
   "metadata": {},
   "source": [
    "# Model Building"
   ]
  },
  {
   "cell_type": "code",
   "execution_count": 36,
   "id": "2e5bc97b",
   "metadata": {
    "scrolled": false
   },
   "outputs": [
    {
     "name": "stderr",
     "output_type": "stream",
     "text": [
      "2023-12-08 15:20:10.696398: I tensorflow/core/common_runtime/gpu/gpu_device.cc:1733] Found device 0 with properties: \n",
      "pciBusID: 0000:07:00.0 name: A100-SXM4-40GB computeCapability: 8.0\n",
      "coreClock: 1.41GHz coreCount: 108 deviceMemorySize: 39.59GiB deviceMemoryBandwidth: 1.41TiB/s\n",
      "2023-12-08 15:20:10.704528: I tensorflow/core/common_runtime/gpu/gpu_device.cc:1871] Adding visible gpu devices: 0\n",
      "2023-12-08 15:20:10.708660: I tensorflow/core/common_runtime/gpu/gpu_device.cc:1733] Found device 0 with properties: \n",
      "pciBusID: 0000:07:00.0 name: A100-SXM4-40GB computeCapability: 8.0\n",
      "coreClock: 1.41GHz coreCount: 108 deviceMemorySize: 39.59GiB deviceMemoryBandwidth: 1.41TiB/s\n",
      "2023-12-08 15:20:10.716372: I tensorflow/core/common_runtime/gpu/gpu_device.cc:1871] Adding visible gpu devices: 0\n",
      "2023-12-08 15:20:10.716412: I tensorflow/core/common_runtime/gpu/gpu_device.cc:1258] Device interconnect StreamExecutor with strength 1 edge matrix:\n",
      "2023-12-08 15:20:10.716416: I tensorflow/core/common_runtime/gpu/gpu_device.cc:1264]      0 \n",
      "2023-12-08 15:20:10.716420: I tensorflow/core/common_runtime/gpu/gpu_device.cc:1277] 0:   N \n",
      "2023-12-08 15:20:10.724484: I tensorflow/core/common_runtime/gpu/gpu_device.cc:1418] Created TensorFlow device (/job:localhost/replica:0/task:0/device:GPU:0 with 38425 MB memory) -> physical GPU (device: 0, name: A100-SXM4-40GB, pci bus id: 0000:07:00.0, compute capability: 8.0)\n"
     ]
    }
   ],
   "source": [
    "model = buildModel((128, 128, 128, 1))"
   ]
  },
  {
   "cell_type": "code",
   "execution_count": 37,
   "id": "7d4bead9",
   "metadata": {},
   "outputs": [
    {
     "name": "stderr",
     "output_type": "stream",
     "text": [
      "/home/dhruvjignesh.shah001/anaconda3/envs/O/lib/python3.9/site-packages/tensorflow/python/keras/optimizer_v2/optimizer_v2.py:374: UserWarning: The `lr` argument is deprecated, use `learning_rate` instead.\n",
      "  warnings.warn(\n"
     ]
    }
   ],
   "source": [
    "model.compile(optimizer=Adam(lr=1e-4), loss='binary_crossentropy', metrics='accuracy')"
   ]
  },
  {
   "cell_type": "code",
   "execution_count": 38,
   "id": "6eb91ddd",
   "metadata": {
    "scrolled": true
   },
   "outputs": [
    {
     "name": "stderr",
     "output_type": "stream",
     "text": [
      "2023-12-08 15:20:39.887270: I tensorflow/compiler/mlir/mlir_graph_optimization_pass.cc:176] None of the MLIR Optimization Passes are enabled (registered 2)\n",
      "2023-12-08 15:20:39.908746: I tensorflow/core/platform/profile_utils/cpu_utils.cc:114] CPU Frequency: 2245800000 Hz\n"
     ]
    },
    {
     "name": "stdout",
     "output_type": "stream",
     "text": [
      "Epoch 1/5\n"
     ]
    },
    {
     "name": "stderr",
     "output_type": "stream",
     "text": [
      "2023-12-08 15:20:41.627592: I tensorflow/stream_executor/platform/default/dso_loader.cc:53] Successfully opened dynamic library libcudnn.so.8\n",
      "2023-12-08 15:20:42.613717: I tensorflow/stream_executor/cuda/cuda_dnn.cc:359] Loaded cuDNN version 8201\n",
      "2023-12-08 15:20:43.670255: W tensorflow/stream_executor/gpu/asm_compiler.cc:191] Falling back to the CUDA driver for PTX compilation; ptxas does not support CC 8.0\n",
      "2023-12-08 15:20:43.670276: W tensorflow/stream_executor/gpu/asm_compiler.cc:194] Used ptxas at ptxas\n",
      "2023-12-08 15:20:43.670738: W tensorflow/stream_executor/gpu/redzone_allocator.cc:314] Unimplemented: ptxas ptxas too old. Falling back to the driver to compile.\n",
      "Relying on driver to perform ptx compilation. \n",
      "Modify $PATH to customize ptxas location.\n",
      "This message will be only logged once.\n",
      "2023-12-08 15:20:43.784305: I tensorflow/stream_executor/platform/default/dso_loader.cc:53] Successfully opened dynamic library libcublas.so.11\n",
      "2023-12-08 15:20:44.841180: I tensorflow/stream_executor/platform/default/dso_loader.cc:53] Successfully opened dynamic library libcublasLt.so.11\n",
      "2023-12-08 15:20:51.655989: W tensorflow/core/kernels/gpu_utils.cc:49] Failed to allocate memory for convolution redzone checking; skipping this check. This is benign and only means that we won't check cudnn for out-of-bounds reads and writes. This message will only be printed once.\n"
     ]
    },
    {
     "name": "stdout",
     "output_type": "stream",
     "text": [
      " 42/131 [========>.....................] - ETA: 2:52 - loss: nan - accuracy: 0.9998"
     ]
    },
    {
     "ename": "KeyboardInterrupt",
     "evalue": "",
     "output_type": "error",
     "traceback": [
      "\u001b[0;31m---------------------------------------------------------------------------\u001b[0m",
      "\u001b[0;31mKeyboardInterrupt\u001b[0m                         Traceback (most recent call last)",
      "\u001b[0;32m/tmp/ipykernel_1228788/2940918951.py\u001b[0m in \u001b[0;36m<module>\u001b[0;34m\u001b[0m\n\u001b[0;32m----> 1\u001b[0;31m \u001b[0mmodel\u001b[0m\u001b[0;34m.\u001b[0m\u001b[0mfit\u001b[0m\u001b[0;34m(\u001b[0m\u001b[0mX_train\u001b[0m\u001b[0;34m,\u001b[0m \u001b[0my_train\u001b[0m\u001b[0;34m,\u001b[0m \u001b[0mbatch_size\u001b[0m\u001b[0;34m=\u001b[0m\u001b[0;36m4\u001b[0m\u001b[0;34m,\u001b[0m \u001b[0mepochs\u001b[0m\u001b[0;34m=\u001b[0m\u001b[0;36m5\u001b[0m\u001b[0;34m)\u001b[0m\u001b[0;34m\u001b[0m\u001b[0;34m\u001b[0m\u001b[0m\n\u001b[0m",
      "\u001b[0;32m~/anaconda3/envs/O/lib/python3.9/site-packages/tensorflow/python/keras/engine/training.py\u001b[0m in \u001b[0;36mfit\u001b[0;34m(self, x, y, batch_size, epochs, verbose, callbacks, validation_split, validation_data, shuffle, class_weight, sample_weight, initial_epoch, steps_per_epoch, validation_steps, validation_batch_size, validation_freq, max_queue_size, workers, use_multiprocessing)\u001b[0m\n\u001b[1;32m   1186\u001b[0m               \u001b[0mlogs\u001b[0m \u001b[0;34m=\u001b[0m \u001b[0mtmp_logs\u001b[0m  \u001b[0;31m# No error, now safe to assign to logs.\u001b[0m\u001b[0;34m\u001b[0m\u001b[0;34m\u001b[0m\u001b[0m\n\u001b[1;32m   1187\u001b[0m               \u001b[0mend_step\u001b[0m \u001b[0;34m=\u001b[0m \u001b[0mstep\u001b[0m \u001b[0;34m+\u001b[0m \u001b[0mdata_handler\u001b[0m\u001b[0;34m.\u001b[0m\u001b[0mstep_increment\u001b[0m\u001b[0;34m\u001b[0m\u001b[0;34m\u001b[0m\u001b[0m\n\u001b[0;32m-> 1188\u001b[0;31m               \u001b[0mcallbacks\u001b[0m\u001b[0;34m.\u001b[0m\u001b[0mon_train_batch_end\u001b[0m\u001b[0;34m(\u001b[0m\u001b[0mend_step\u001b[0m\u001b[0;34m,\u001b[0m \u001b[0mlogs\u001b[0m\u001b[0;34m)\u001b[0m\u001b[0;34m\u001b[0m\u001b[0;34m\u001b[0m\u001b[0m\n\u001b[0m\u001b[1;32m   1189\u001b[0m               \u001b[0;32mif\u001b[0m \u001b[0mself\u001b[0m\u001b[0;34m.\u001b[0m\u001b[0mstop_training\u001b[0m\u001b[0;34m:\u001b[0m\u001b[0;34m\u001b[0m\u001b[0;34m\u001b[0m\u001b[0m\n\u001b[1;32m   1190\u001b[0m                 \u001b[0;32mbreak\u001b[0m\u001b[0;34m\u001b[0m\u001b[0;34m\u001b[0m\u001b[0m\n",
      "\u001b[0;32m~/anaconda3/envs/O/lib/python3.9/site-packages/tensorflow/python/keras/callbacks.py\u001b[0m in \u001b[0;36mon_train_batch_end\u001b[0;34m(self, batch, logs)\u001b[0m\n\u001b[1;32m    455\u001b[0m     \"\"\"\n\u001b[1;32m    456\u001b[0m     \u001b[0;32mif\u001b[0m \u001b[0mself\u001b[0m\u001b[0;34m.\u001b[0m\u001b[0m_should_call_train_batch_hooks\u001b[0m\u001b[0;34m:\u001b[0m\u001b[0;34m\u001b[0m\u001b[0;34m\u001b[0m\u001b[0m\n\u001b[0;32m--> 457\u001b[0;31m       \u001b[0mself\u001b[0m\u001b[0;34m.\u001b[0m\u001b[0m_call_batch_hook\u001b[0m\u001b[0;34m(\u001b[0m\u001b[0mModeKeys\u001b[0m\u001b[0;34m.\u001b[0m\u001b[0mTRAIN\u001b[0m\u001b[0;34m,\u001b[0m \u001b[0;34m'end'\u001b[0m\u001b[0;34m,\u001b[0m \u001b[0mbatch\u001b[0m\u001b[0;34m,\u001b[0m \u001b[0mlogs\u001b[0m\u001b[0;34m=\u001b[0m\u001b[0mlogs\u001b[0m\u001b[0;34m)\u001b[0m\u001b[0;34m\u001b[0m\u001b[0;34m\u001b[0m\u001b[0m\n\u001b[0m\u001b[1;32m    458\u001b[0m \u001b[0;34m\u001b[0m\u001b[0m\n\u001b[1;32m    459\u001b[0m   \u001b[0;32mdef\u001b[0m \u001b[0mon_test_batch_begin\u001b[0m\u001b[0;34m(\u001b[0m\u001b[0mself\u001b[0m\u001b[0;34m,\u001b[0m \u001b[0mbatch\u001b[0m\u001b[0;34m,\u001b[0m \u001b[0mlogs\u001b[0m\u001b[0;34m=\u001b[0m\u001b[0;32mNone\u001b[0m\u001b[0;34m)\u001b[0m\u001b[0;34m:\u001b[0m\u001b[0;34m\u001b[0m\u001b[0;34m\u001b[0m\u001b[0m\n",
      "\u001b[0;32m~/anaconda3/envs/O/lib/python3.9/site-packages/tensorflow/python/keras/callbacks.py\u001b[0m in \u001b[0;36m_call_batch_hook\u001b[0;34m(self, mode, hook, batch, logs)\u001b[0m\n\u001b[1;32m    315\u001b[0m       \u001b[0mself\u001b[0m\u001b[0;34m.\u001b[0m\u001b[0m_call_batch_begin_hook\u001b[0m\u001b[0;34m(\u001b[0m\u001b[0mmode\u001b[0m\u001b[0;34m,\u001b[0m \u001b[0mbatch\u001b[0m\u001b[0;34m,\u001b[0m \u001b[0mlogs\u001b[0m\u001b[0;34m)\u001b[0m\u001b[0;34m\u001b[0m\u001b[0;34m\u001b[0m\u001b[0m\n\u001b[1;32m    316\u001b[0m     \u001b[0;32melif\u001b[0m \u001b[0mhook\u001b[0m \u001b[0;34m==\u001b[0m \u001b[0;34m'end'\u001b[0m\u001b[0;34m:\u001b[0m\u001b[0;34m\u001b[0m\u001b[0;34m\u001b[0m\u001b[0m\n\u001b[0;32m--> 317\u001b[0;31m       \u001b[0mself\u001b[0m\u001b[0;34m.\u001b[0m\u001b[0m_call_batch_end_hook\u001b[0m\u001b[0;34m(\u001b[0m\u001b[0mmode\u001b[0m\u001b[0;34m,\u001b[0m \u001b[0mbatch\u001b[0m\u001b[0;34m,\u001b[0m \u001b[0mlogs\u001b[0m\u001b[0;34m)\u001b[0m\u001b[0;34m\u001b[0m\u001b[0;34m\u001b[0m\u001b[0m\n\u001b[0m\u001b[1;32m    318\u001b[0m     \u001b[0;32melse\u001b[0m\u001b[0;34m:\u001b[0m\u001b[0;34m\u001b[0m\u001b[0;34m\u001b[0m\u001b[0m\n\u001b[1;32m    319\u001b[0m       \u001b[0;32mraise\u001b[0m \u001b[0mValueError\u001b[0m\u001b[0;34m(\u001b[0m\u001b[0;34m'Unrecognized hook: {}'\u001b[0m\u001b[0;34m.\u001b[0m\u001b[0mformat\u001b[0m\u001b[0;34m(\u001b[0m\u001b[0mhook\u001b[0m\u001b[0;34m)\u001b[0m\u001b[0;34m)\u001b[0m\u001b[0;34m\u001b[0m\u001b[0;34m\u001b[0m\u001b[0m\n",
      "\u001b[0;32m~/anaconda3/envs/O/lib/python3.9/site-packages/tensorflow/python/keras/callbacks.py\u001b[0m in \u001b[0;36m_call_batch_end_hook\u001b[0;34m(self, mode, batch, logs)\u001b[0m\n\u001b[1;32m    335\u001b[0m       \u001b[0mself\u001b[0m\u001b[0;34m.\u001b[0m\u001b[0m_batch_times\u001b[0m\u001b[0;34m.\u001b[0m\u001b[0mappend\u001b[0m\u001b[0;34m(\u001b[0m\u001b[0mbatch_time\u001b[0m\u001b[0;34m)\u001b[0m\u001b[0;34m\u001b[0m\u001b[0;34m\u001b[0m\u001b[0m\n\u001b[1;32m    336\u001b[0m \u001b[0;34m\u001b[0m\u001b[0m\n\u001b[0;32m--> 337\u001b[0;31m     \u001b[0mself\u001b[0m\u001b[0;34m.\u001b[0m\u001b[0m_call_batch_hook_helper\u001b[0m\u001b[0;34m(\u001b[0m\u001b[0mhook_name\u001b[0m\u001b[0;34m,\u001b[0m \u001b[0mbatch\u001b[0m\u001b[0;34m,\u001b[0m \u001b[0mlogs\u001b[0m\u001b[0;34m)\u001b[0m\u001b[0;34m\u001b[0m\u001b[0;34m\u001b[0m\u001b[0m\n\u001b[0m\u001b[1;32m    338\u001b[0m \u001b[0;34m\u001b[0m\u001b[0m\n\u001b[1;32m    339\u001b[0m     \u001b[0;32mif\u001b[0m \u001b[0mlen\u001b[0m\u001b[0;34m(\u001b[0m\u001b[0mself\u001b[0m\u001b[0;34m.\u001b[0m\u001b[0m_batch_times\u001b[0m\u001b[0;34m)\u001b[0m \u001b[0;34m>=\u001b[0m \u001b[0mself\u001b[0m\u001b[0;34m.\u001b[0m\u001b[0m_num_batches_for_timing_check\u001b[0m\u001b[0;34m:\u001b[0m\u001b[0;34m\u001b[0m\u001b[0;34m\u001b[0m\u001b[0m\n",
      "\u001b[0;32m~/anaconda3/envs/O/lib/python3.9/site-packages/tensorflow/python/keras/callbacks.py\u001b[0m in \u001b[0;36m_call_batch_hook_helper\u001b[0;34m(self, hook_name, batch, logs)\u001b[0m\n\u001b[1;32m    373\u001b[0m     \u001b[0;32mfor\u001b[0m \u001b[0mcallback\u001b[0m \u001b[0;32min\u001b[0m \u001b[0mself\u001b[0m\u001b[0;34m.\u001b[0m\u001b[0mcallbacks\u001b[0m\u001b[0;34m:\u001b[0m\u001b[0;34m\u001b[0m\u001b[0;34m\u001b[0m\u001b[0m\n\u001b[1;32m    374\u001b[0m       \u001b[0mhook\u001b[0m \u001b[0;34m=\u001b[0m \u001b[0mgetattr\u001b[0m\u001b[0;34m(\u001b[0m\u001b[0mcallback\u001b[0m\u001b[0;34m,\u001b[0m \u001b[0mhook_name\u001b[0m\u001b[0;34m)\u001b[0m\u001b[0;34m\u001b[0m\u001b[0;34m\u001b[0m\u001b[0m\n\u001b[0;32m--> 375\u001b[0;31m       \u001b[0mhook\u001b[0m\u001b[0;34m(\u001b[0m\u001b[0mbatch\u001b[0m\u001b[0;34m,\u001b[0m \u001b[0mlogs\u001b[0m\u001b[0;34m)\u001b[0m\u001b[0;34m\u001b[0m\u001b[0;34m\u001b[0m\u001b[0m\n\u001b[0m\u001b[1;32m    376\u001b[0m \u001b[0;34m\u001b[0m\u001b[0m\n\u001b[1;32m    377\u001b[0m     \u001b[0;32mif\u001b[0m \u001b[0mself\u001b[0m\u001b[0;34m.\u001b[0m\u001b[0m_check_timing\u001b[0m\u001b[0;34m:\u001b[0m\u001b[0;34m\u001b[0m\u001b[0;34m\u001b[0m\u001b[0m\n",
      "\u001b[0;32m~/anaconda3/envs/O/lib/python3.9/site-packages/tensorflow/python/keras/callbacks.py\u001b[0m in \u001b[0;36mon_train_batch_end\u001b[0;34m(self, batch, logs)\u001b[0m\n\u001b[1;32m   1027\u001b[0m \u001b[0;34m\u001b[0m\u001b[0m\n\u001b[1;32m   1028\u001b[0m   \u001b[0;32mdef\u001b[0m \u001b[0mon_train_batch_end\u001b[0m\u001b[0;34m(\u001b[0m\u001b[0mself\u001b[0m\u001b[0;34m,\u001b[0m \u001b[0mbatch\u001b[0m\u001b[0;34m,\u001b[0m \u001b[0mlogs\u001b[0m\u001b[0;34m=\u001b[0m\u001b[0;32mNone\u001b[0m\u001b[0;34m)\u001b[0m\u001b[0;34m:\u001b[0m\u001b[0;34m\u001b[0m\u001b[0;34m\u001b[0m\u001b[0m\n\u001b[0;32m-> 1029\u001b[0;31m     \u001b[0mself\u001b[0m\u001b[0;34m.\u001b[0m\u001b[0m_batch_update_progbar\u001b[0m\u001b[0;34m(\u001b[0m\u001b[0mbatch\u001b[0m\u001b[0;34m,\u001b[0m \u001b[0mlogs\u001b[0m\u001b[0;34m)\u001b[0m\u001b[0;34m\u001b[0m\u001b[0;34m\u001b[0m\u001b[0m\n\u001b[0m\u001b[1;32m   1030\u001b[0m \u001b[0;34m\u001b[0m\u001b[0m\n\u001b[1;32m   1031\u001b[0m   \u001b[0;32mdef\u001b[0m \u001b[0mon_test_batch_end\u001b[0m\u001b[0;34m(\u001b[0m\u001b[0mself\u001b[0m\u001b[0;34m,\u001b[0m \u001b[0mbatch\u001b[0m\u001b[0;34m,\u001b[0m \u001b[0mlogs\u001b[0m\u001b[0;34m=\u001b[0m\u001b[0;32mNone\u001b[0m\u001b[0;34m)\u001b[0m\u001b[0;34m:\u001b[0m\u001b[0;34m\u001b[0m\u001b[0;34m\u001b[0m\u001b[0m\n",
      "\u001b[0;32m~/anaconda3/envs/O/lib/python3.9/site-packages/tensorflow/python/keras/callbacks.py\u001b[0m in \u001b[0;36m_batch_update_progbar\u001b[0;34m(self, batch, logs)\u001b[0m\n\u001b[1;32m   1099\u001b[0m     \u001b[0;32mif\u001b[0m \u001b[0mself\u001b[0m\u001b[0;34m.\u001b[0m\u001b[0mverbose\u001b[0m \u001b[0;34m==\u001b[0m \u001b[0;36m1\u001b[0m\u001b[0;34m:\u001b[0m\u001b[0;34m\u001b[0m\u001b[0;34m\u001b[0m\u001b[0m\n\u001b[1;32m   1100\u001b[0m       \u001b[0;31m# Only block async when verbose = 1.\u001b[0m\u001b[0;34m\u001b[0m\u001b[0;34m\u001b[0m\u001b[0m\n\u001b[0;32m-> 1101\u001b[0;31m       \u001b[0mlogs\u001b[0m \u001b[0;34m=\u001b[0m \u001b[0mtf_utils\u001b[0m\u001b[0;34m.\u001b[0m\u001b[0msync_to_numpy_or_python_type\u001b[0m\u001b[0;34m(\u001b[0m\u001b[0mlogs\u001b[0m\u001b[0;34m)\u001b[0m\u001b[0;34m\u001b[0m\u001b[0;34m\u001b[0m\u001b[0m\n\u001b[0m\u001b[1;32m   1102\u001b[0m       \u001b[0mself\u001b[0m\u001b[0;34m.\u001b[0m\u001b[0mprogbar\u001b[0m\u001b[0;34m.\u001b[0m\u001b[0mupdate\u001b[0m\u001b[0;34m(\u001b[0m\u001b[0mself\u001b[0m\u001b[0;34m.\u001b[0m\u001b[0mseen\u001b[0m\u001b[0;34m,\u001b[0m \u001b[0mlist\u001b[0m\u001b[0;34m(\u001b[0m\u001b[0mlogs\u001b[0m\u001b[0;34m.\u001b[0m\u001b[0mitems\u001b[0m\u001b[0;34m(\u001b[0m\u001b[0;34m)\u001b[0m\u001b[0;34m)\u001b[0m\u001b[0;34m,\u001b[0m \u001b[0mfinalize\u001b[0m\u001b[0;34m=\u001b[0m\u001b[0;32mFalse\u001b[0m\u001b[0;34m)\u001b[0m\u001b[0;34m\u001b[0m\u001b[0;34m\u001b[0m\u001b[0m\n\u001b[1;32m   1103\u001b[0m \u001b[0;34m\u001b[0m\u001b[0m\n",
      "\u001b[0;32m~/anaconda3/envs/O/lib/python3.9/site-packages/tensorflow/python/keras/utils/tf_utils.py\u001b[0m in \u001b[0;36msync_to_numpy_or_python_type\u001b[0;34m(tensors)\u001b[0m\n\u001b[1;32m    517\u001b[0m     \u001b[0;32mreturn\u001b[0m \u001b[0mt\u001b[0m  \u001b[0;31m# Don't turn ragged or sparse tensors to NumPy.\u001b[0m\u001b[0;34m\u001b[0m\u001b[0;34m\u001b[0m\u001b[0m\n\u001b[1;32m    518\u001b[0m \u001b[0;34m\u001b[0m\u001b[0m\n\u001b[0;32m--> 519\u001b[0;31m   \u001b[0;32mreturn\u001b[0m \u001b[0mnest\u001b[0m\u001b[0;34m.\u001b[0m\u001b[0mmap_structure\u001b[0m\u001b[0;34m(\u001b[0m\u001b[0m_to_single_numpy_or_python_type\u001b[0m\u001b[0;34m,\u001b[0m \u001b[0mtensors\u001b[0m\u001b[0;34m)\u001b[0m\u001b[0;34m\u001b[0m\u001b[0;34m\u001b[0m\u001b[0m\n\u001b[0m\u001b[1;32m    520\u001b[0m \u001b[0;34m\u001b[0m\u001b[0m\n\u001b[1;32m    521\u001b[0m \u001b[0;34m\u001b[0m\u001b[0m\n",
      "\u001b[0;32m~/anaconda3/envs/O/lib/python3.9/site-packages/tensorflow/python/util/nest.py\u001b[0m in \u001b[0;36mmap_structure\u001b[0;34m(func, *structure, **kwargs)\u001b[0m\n\u001b[1;32m    865\u001b[0m \u001b[0;34m\u001b[0m\u001b[0m\n\u001b[1;32m    866\u001b[0m   return pack_sequence_as(\n\u001b[0;32m--> 867\u001b[0;31m       \u001b[0mstructure\u001b[0m\u001b[0;34m[\u001b[0m\u001b[0;36m0\u001b[0m\u001b[0;34m]\u001b[0m\u001b[0;34m,\u001b[0m \u001b[0;34m[\u001b[0m\u001b[0mfunc\u001b[0m\u001b[0;34m(\u001b[0m\u001b[0;34m*\u001b[0m\u001b[0mx\u001b[0m\u001b[0;34m)\u001b[0m \u001b[0;32mfor\u001b[0m \u001b[0mx\u001b[0m \u001b[0;32min\u001b[0m \u001b[0mentries\u001b[0m\u001b[0;34m]\u001b[0m\u001b[0;34m,\u001b[0m\u001b[0;34m\u001b[0m\u001b[0;34m\u001b[0m\u001b[0m\n\u001b[0m\u001b[1;32m    868\u001b[0m       expand_composites=expand_composites)\n\u001b[1;32m    869\u001b[0m \u001b[0;34m\u001b[0m\u001b[0m\n",
      "\u001b[0;32m~/anaconda3/envs/O/lib/python3.9/site-packages/tensorflow/python/util/nest.py\u001b[0m in \u001b[0;36m<listcomp>\u001b[0;34m(.0)\u001b[0m\n\u001b[1;32m    865\u001b[0m \u001b[0;34m\u001b[0m\u001b[0m\n\u001b[1;32m    866\u001b[0m   return pack_sequence_as(\n\u001b[0;32m--> 867\u001b[0;31m       \u001b[0mstructure\u001b[0m\u001b[0;34m[\u001b[0m\u001b[0;36m0\u001b[0m\u001b[0;34m]\u001b[0m\u001b[0;34m,\u001b[0m \u001b[0;34m[\u001b[0m\u001b[0mfunc\u001b[0m\u001b[0;34m(\u001b[0m\u001b[0;34m*\u001b[0m\u001b[0mx\u001b[0m\u001b[0;34m)\u001b[0m \u001b[0;32mfor\u001b[0m \u001b[0mx\u001b[0m \u001b[0;32min\u001b[0m \u001b[0mentries\u001b[0m\u001b[0;34m]\u001b[0m\u001b[0;34m,\u001b[0m\u001b[0;34m\u001b[0m\u001b[0;34m\u001b[0m\u001b[0m\n\u001b[0m\u001b[1;32m    868\u001b[0m       expand_composites=expand_composites)\n\u001b[1;32m    869\u001b[0m \u001b[0;34m\u001b[0m\u001b[0m\n",
      "\u001b[0;32m~/anaconda3/envs/O/lib/python3.9/site-packages/tensorflow/python/keras/utils/tf_utils.py\u001b[0m in \u001b[0;36m_to_single_numpy_or_python_type\u001b[0;34m(t)\u001b[0m\n\u001b[1;32m    513\u001b[0m   \u001b[0;32mdef\u001b[0m \u001b[0m_to_single_numpy_or_python_type\u001b[0m\u001b[0;34m(\u001b[0m\u001b[0mt\u001b[0m\u001b[0;34m)\u001b[0m\u001b[0;34m:\u001b[0m\u001b[0;34m\u001b[0m\u001b[0;34m\u001b[0m\u001b[0m\n\u001b[1;32m    514\u001b[0m     \u001b[0;32mif\u001b[0m \u001b[0misinstance\u001b[0m\u001b[0;34m(\u001b[0m\u001b[0mt\u001b[0m\u001b[0;34m,\u001b[0m \u001b[0mops\u001b[0m\u001b[0;34m.\u001b[0m\u001b[0mTensor\u001b[0m\u001b[0;34m)\u001b[0m\u001b[0;34m:\u001b[0m\u001b[0;34m\u001b[0m\u001b[0;34m\u001b[0m\u001b[0m\n\u001b[0;32m--> 515\u001b[0;31m       \u001b[0mx\u001b[0m \u001b[0;34m=\u001b[0m \u001b[0mt\u001b[0m\u001b[0;34m.\u001b[0m\u001b[0mnumpy\u001b[0m\u001b[0;34m(\u001b[0m\u001b[0;34m)\u001b[0m\u001b[0;34m\u001b[0m\u001b[0;34m\u001b[0m\u001b[0m\n\u001b[0m\u001b[1;32m    516\u001b[0m       \u001b[0;32mreturn\u001b[0m \u001b[0mx\u001b[0m\u001b[0;34m.\u001b[0m\u001b[0mitem\u001b[0m\u001b[0;34m(\u001b[0m\u001b[0;34m)\u001b[0m \u001b[0;32mif\u001b[0m \u001b[0mnp\u001b[0m\u001b[0;34m.\u001b[0m\u001b[0mndim\u001b[0m\u001b[0;34m(\u001b[0m\u001b[0mx\u001b[0m\u001b[0;34m)\u001b[0m \u001b[0;34m==\u001b[0m \u001b[0;36m0\u001b[0m \u001b[0;32melse\u001b[0m \u001b[0mx\u001b[0m\u001b[0;34m\u001b[0m\u001b[0;34m\u001b[0m\u001b[0m\n\u001b[1;32m    517\u001b[0m     \u001b[0;32mreturn\u001b[0m \u001b[0mt\u001b[0m  \u001b[0;31m# Don't turn ragged or sparse tensors to NumPy.\u001b[0m\u001b[0;34m\u001b[0m\u001b[0;34m\u001b[0m\u001b[0m\n",
      "\u001b[0;32m~/anaconda3/envs/O/lib/python3.9/site-packages/tensorflow/python/framework/ops.py\u001b[0m in \u001b[0;36mnumpy\u001b[0;34m(self)\u001b[0m\n\u001b[1;32m   1092\u001b[0m     \"\"\"\n\u001b[1;32m   1093\u001b[0m     \u001b[0;31m# TODO(slebedev): Consider avoiding a copy for non-CPU or remote tensors.\u001b[0m\u001b[0;34m\u001b[0m\u001b[0;34m\u001b[0m\u001b[0m\n\u001b[0;32m-> 1094\u001b[0;31m     \u001b[0mmaybe_arr\u001b[0m \u001b[0;34m=\u001b[0m \u001b[0mself\u001b[0m\u001b[0;34m.\u001b[0m\u001b[0m_numpy\u001b[0m\u001b[0;34m(\u001b[0m\u001b[0;34m)\u001b[0m  \u001b[0;31m# pylint: disable=protected-access\u001b[0m\u001b[0;34m\u001b[0m\u001b[0;34m\u001b[0m\u001b[0m\n\u001b[0m\u001b[1;32m   1095\u001b[0m     \u001b[0;32mreturn\u001b[0m \u001b[0mmaybe_arr\u001b[0m\u001b[0;34m.\u001b[0m\u001b[0mcopy\u001b[0m\u001b[0;34m(\u001b[0m\u001b[0;34m)\u001b[0m \u001b[0;32mif\u001b[0m \u001b[0misinstance\u001b[0m\u001b[0;34m(\u001b[0m\u001b[0mmaybe_arr\u001b[0m\u001b[0;34m,\u001b[0m \u001b[0mnp\u001b[0m\u001b[0;34m.\u001b[0m\u001b[0mndarray\u001b[0m\u001b[0;34m)\u001b[0m \u001b[0;32melse\u001b[0m \u001b[0mmaybe_arr\u001b[0m\u001b[0;34m\u001b[0m\u001b[0;34m\u001b[0m\u001b[0m\n\u001b[1;32m   1096\u001b[0m \u001b[0;34m\u001b[0m\u001b[0m\n",
      "\u001b[0;32m~/anaconda3/envs/O/lib/python3.9/site-packages/tensorflow/python/framework/ops.py\u001b[0m in \u001b[0;36m_numpy\u001b[0;34m(self)\u001b[0m\n\u001b[1;32m   1058\u001b[0m   \u001b[0;32mdef\u001b[0m \u001b[0m_numpy\u001b[0m\u001b[0;34m(\u001b[0m\u001b[0mself\u001b[0m\u001b[0;34m)\u001b[0m\u001b[0;34m:\u001b[0m\u001b[0;34m\u001b[0m\u001b[0;34m\u001b[0m\u001b[0m\n\u001b[1;32m   1059\u001b[0m     \u001b[0;32mtry\u001b[0m\u001b[0;34m:\u001b[0m\u001b[0;34m\u001b[0m\u001b[0;34m\u001b[0m\u001b[0m\n\u001b[0;32m-> 1060\u001b[0;31m       \u001b[0;32mreturn\u001b[0m \u001b[0mself\u001b[0m\u001b[0;34m.\u001b[0m\u001b[0m_numpy_internal\u001b[0m\u001b[0;34m(\u001b[0m\u001b[0;34m)\u001b[0m\u001b[0;34m\u001b[0m\u001b[0;34m\u001b[0m\u001b[0m\n\u001b[0m\u001b[1;32m   1061\u001b[0m     \u001b[0;32mexcept\u001b[0m \u001b[0mcore\u001b[0m\u001b[0;34m.\u001b[0m\u001b[0m_NotOkStatusException\u001b[0m \u001b[0;32mas\u001b[0m \u001b[0me\u001b[0m\u001b[0;34m:\u001b[0m  \u001b[0;31m# pylint: disable=protected-access\u001b[0m\u001b[0;34m\u001b[0m\u001b[0;34m\u001b[0m\u001b[0m\n\u001b[1;32m   1062\u001b[0m       \u001b[0msix\u001b[0m\u001b[0;34m.\u001b[0m\u001b[0mraise_from\u001b[0m\u001b[0;34m(\u001b[0m\u001b[0mcore\u001b[0m\u001b[0;34m.\u001b[0m\u001b[0m_status_to_exception\u001b[0m\u001b[0;34m(\u001b[0m\u001b[0me\u001b[0m\u001b[0;34m.\u001b[0m\u001b[0mcode\u001b[0m\u001b[0;34m,\u001b[0m \u001b[0me\u001b[0m\u001b[0;34m.\u001b[0m\u001b[0mmessage\u001b[0m\u001b[0;34m)\u001b[0m\u001b[0;34m,\u001b[0m \u001b[0;32mNone\u001b[0m\u001b[0;34m)\u001b[0m  \u001b[0;31m# pylint: disable=protected-access\u001b[0m\u001b[0;34m\u001b[0m\u001b[0;34m\u001b[0m\u001b[0m\n",
      "\u001b[0;31mKeyboardInterrupt\u001b[0m: "
     ]
    }
   ],
   "source": [
    "model.fit(X_train, y_train, batch_size=4, epochs=5)"
   ]
  },
  {
   "cell_type": "markdown",
   "id": "2d597d01",
   "metadata": {},
   "source": [
    "# Testing Around"
   ]
  },
  {
   "cell_type": "code",
   "execution_count": 14,
   "id": "655cc326",
   "metadata": {},
   "outputs": [],
   "source": [
    "X_train = np.load(\"X_train.npy\")"
   ]
  },
  {
   "cell_type": "code",
   "execution_count": 15,
   "id": "2a5f1f06",
   "metadata": {},
   "outputs": [],
   "source": [
    "X_test = np.load(\"X_test.npy\")"
   ]
  },
  {
   "cell_type": "code",
   "execution_count": 16,
   "id": "0b48352e",
   "metadata": {},
   "outputs": [],
   "source": [
    "y_train = np.load(\"y_train.npy\")"
   ]
  },
  {
   "cell_type": "code",
   "execution_count": 17,
   "id": "f2f3f63e",
   "metadata": {},
   "outputs": [],
   "source": [
    "y_test = np.load(\"y_test.npy\")"
   ]
  },
  {
   "cell_type": "code",
   "execution_count": 39,
   "id": "d5b35416",
   "metadata": {},
   "outputs": [
    {
     "name": "stdout",
     "output_type": "stream",
     "text": [
      "[[[[       nan        nan        nan ...        nan        nan\n",
      "           nan]\n",
      "   [       nan        nan        nan ...        nan        nan\n",
      "           nan]\n",
      "   [       nan        nan        nan ...        nan        nan\n",
      "           nan]\n",
      "   ...\n",
      "   [       nan        nan        nan ...        nan        nan\n",
      "           nan]\n",
      "   [       nan        nan        nan ...        nan        nan\n",
      "           nan]\n",
      "   [       nan        nan        nan ...        nan        nan\n",
      "           nan]]\n",
      "\n",
      "  [[       nan        nan        nan ...        nan        nan\n",
      "           nan]\n",
      "   [       nan        nan        nan ...        nan        nan\n",
      "           nan]\n",
      "   [       nan        nan        nan ...        nan        nan\n",
      "           nan]\n",
      "   ...\n",
      "   [       nan        nan        nan ...        nan        nan\n",
      "           nan]\n",
      "   [       nan        nan        nan ...        nan        nan\n",
      "           nan]\n",
      "   [       nan        nan        nan ...        nan        nan\n",
      "           nan]]\n",
      "\n",
      "  [[       nan        nan        nan ...        nan        nan\n",
      "           nan]\n",
      "   [       nan        nan        nan ...        nan        nan\n",
      "           nan]\n",
      "   [       nan        nan        nan ...        nan        nan\n",
      "           nan]\n",
      "   ...\n",
      "   [       nan        nan        nan ...        nan        nan\n",
      "           nan]\n",
      "   [       nan        nan        nan ...        nan        nan\n",
      "           nan]\n",
      "   [       nan        nan        nan ...        nan        nan\n",
      "           nan]]\n",
      "\n",
      "  ...\n",
      "\n",
      "  [[       nan        nan        nan ...        nan        nan\n",
      "           nan]\n",
      "   [       nan        nan        nan ...        nan        nan\n",
      "           nan]\n",
      "   [       nan        nan        nan ...        nan        nan\n",
      "           nan]\n",
      "   ...\n",
      "   [       nan        nan        nan ...        nan        nan\n",
      "           nan]\n",
      "   [       nan        nan        nan ...        nan        nan\n",
      "           nan]\n",
      "   [       nan        nan        nan ...        nan        nan\n",
      "           nan]]\n",
      "\n",
      "  [[       nan        nan        nan ...        nan        nan\n",
      "           nan]\n",
      "   [       nan        nan        nan ...        nan        nan\n",
      "           nan]\n",
      "   [       nan        nan        nan ...        nan        nan\n",
      "           nan]\n",
      "   ...\n",
      "   [       nan        nan        nan ...        nan        nan\n",
      "           nan]\n",
      "   [       nan        nan        nan ...        nan        nan\n",
      "           nan]\n",
      "   [       nan        nan        nan ...        nan        nan\n",
      "           nan]]\n",
      "\n",
      "  [[       nan        nan        nan ...        nan        nan\n",
      "           nan]\n",
      "   [       nan        nan        nan ...        nan        nan\n",
      "           nan]\n",
      "   [       nan        nan        nan ...        nan        nan\n",
      "           nan]\n",
      "   ...\n",
      "   [       nan        nan        nan ...        nan        nan\n",
      "           nan]\n",
      "   [       nan        nan        nan ...        nan        nan\n",
      "           nan]\n",
      "   [       nan        nan        nan ...        nan        nan\n",
      "           nan]]]\n",
      "\n",
      "\n",
      " [[[       nan        nan        nan ...        nan        nan\n",
      "           nan]\n",
      "   [       nan        nan        nan ...        nan        nan\n",
      "           nan]\n",
      "   [       nan        nan        nan ...        nan        nan\n",
      "           nan]\n",
      "   ...\n",
      "   [       nan        nan        nan ...        nan        nan\n",
      "           nan]\n",
      "   [       nan        nan        nan ...        nan        nan\n",
      "           nan]\n",
      "   [       nan        nan        nan ...        nan        nan\n",
      "           nan]]\n",
      "\n",
      "  [[       nan        nan        nan ...        nan        nan\n",
      "           nan]\n",
      "   [       nan        nan        nan ...        nan        nan\n",
      "           nan]\n",
      "   [       nan        nan        nan ...        nan        nan\n",
      "           nan]\n",
      "   ...\n",
      "   [       nan        nan        nan ...        nan        nan\n",
      "           nan]\n",
      "   [       nan        nan        nan ...        nan        nan\n",
      "           nan]\n",
      "   [       nan        nan        nan ...        nan        nan\n",
      "           nan]]\n",
      "\n",
      "  [[       nan        nan        nan ...        nan        nan\n",
      "           nan]\n",
      "   [       nan        nan        nan ...        nan        nan\n",
      "           nan]\n",
      "   [       nan        nan        nan ...        nan        nan\n",
      "           nan]\n",
      "   ...\n",
      "   [       nan        nan        nan ...        nan        nan\n",
      "           nan]\n",
      "   [       nan        nan        nan ...        nan        nan\n",
      "           nan]\n",
      "   [       nan        nan        nan ...        nan        nan\n",
      "           nan]]\n",
      "\n",
      "  ...\n",
      "\n",
      "  [[       nan        nan        nan ...        nan        nan\n",
      "           nan]\n",
      "   [       nan        nan        nan ...        nan        nan\n",
      "           nan]\n",
      "   [       nan        nan        nan ...        nan        nan\n",
      "           nan]\n",
      "   ...\n",
      "   [       nan        nan        nan ...        nan        nan\n",
      "           nan]\n",
      "   [       nan        nan        nan ...        nan        nan\n",
      "           nan]\n",
      "   [       nan        nan        nan ...        nan        nan\n",
      "           nan]]\n",
      "\n",
      "  [[       nan        nan        nan ...        nan        nan\n",
      "           nan]\n",
      "   [       nan        nan        nan ...        nan        nan\n",
      "           nan]\n",
      "   [       nan        nan        nan ...        nan        nan\n",
      "           nan]\n",
      "   ...\n",
      "   [       nan        nan        nan ...        nan        nan\n",
      "           nan]\n",
      "   [       nan        nan        nan ...        nan        nan\n",
      "           nan]\n",
      "   [       nan        nan        nan ...        nan        nan\n",
      "           nan]]\n",
      "\n",
      "  [[       nan        nan        nan ...        nan        nan\n",
      "           nan]\n",
      "   [       nan        nan        nan ...        nan        nan\n",
      "           nan]\n",
      "   [       nan        nan        nan ...        nan        nan\n",
      "           nan]\n",
      "   ...\n",
      "   [       nan        nan        nan ...        nan        nan\n",
      "           nan]\n",
      "   [       nan        nan        nan ...        nan        nan\n",
      "           nan]\n",
      "   [       nan        nan        nan ...        nan        nan\n",
      "           nan]]]\n",
      "\n",
      "\n",
      " [[[0.01031746 0.00952381 0.00714286 ... 0.40634921 0.40634921\n",
      "    0.40634921]\n",
      "   [0.01150794 0.01071429 0.00912698 ... 0.40634921 0.40634921\n",
      "    0.40634921]\n",
      "   [0.01150794 0.01190476 0.01150794 ... 0.40634921 0.40634921\n",
      "    0.40634921]\n",
      "   ...\n",
      "   [0.00873016 0.00833333 0.00595238 ... 0.40634921 0.40634921\n",
      "    0.40634921]\n",
      "   [0.00753968 0.00753968 0.00634921 ... 0.40634921 0.40634921\n",
      "    0.40634921]\n",
      "   [0.00793651 0.00952381 0.00714286 ... 0.40634921 0.40634921\n",
      "    0.40634921]]\n",
      "\n",
      "  [[0.00912698 0.00793651 0.00714286 ... 0.40634921 0.40634921\n",
      "    0.40634921]\n",
      "   [0.01071429 0.01031746 0.00793651 ... 0.40634921 0.40634921\n",
      "    0.40634921]\n",
      "   [0.01230159 0.01269841 0.01031746 ... 0.40634921 0.40634921\n",
      "    0.40634921]\n",
      "   ...\n",
      "   [0.00952381 0.00833333 0.00515873 ... 0.40634921 0.40634921\n",
      "    0.40634921]\n",
      "   [0.00833333 0.00753968 0.00515873 ... 0.40634921 0.40634921\n",
      "    0.40634921]\n",
      "   [0.00753968 0.00873016 0.00595238 ... 0.40634921 0.40634921\n",
      "    0.40634921]]\n",
      "\n",
      "  [[0.00515873 0.00436508 0.00674603 ... 0.40634921 0.40634921\n",
      "    0.40634921]\n",
      "   [0.00674603 0.00595238 0.0047619  ... 0.40634921 0.40634921\n",
      "    0.40634921]\n",
      "   [0.01031746 0.01031746 0.00634921 ... 0.40634921 0.40634921\n",
      "    0.40634921]\n",
      "   ...\n",
      "   [0.00873016 0.00753968 0.00436508 ... 0.40634921 0.40634921\n",
      "    0.40634921]\n",
      "   [0.00793651 0.00674603 0.00436508 ... 0.40634921 0.40634921\n",
      "    0.40634921]\n",
      "   [0.00714286 0.00714286 0.00436508 ... 0.40634921 0.40634921\n",
      "    0.40634921]]\n",
      "\n",
      "  ...\n",
      "\n",
      "  [[0.01230159 0.01071429 0.00793651 ... 0.40634921 0.40634921\n",
      "    0.40634921]\n",
      "   [0.01309524 0.01031746 0.00753968 ... 0.40634921 0.40634921\n",
      "    0.40634921]\n",
      "   [0.01269841 0.01071429 0.00833333 ... 0.40634921 0.40634921\n",
      "    0.40634921]\n",
      "   ...\n",
      "   [0.37777778 0.3765873  0.3968254  ... 0.40634921 0.40634921\n",
      "    0.40634921]\n",
      "   [0.3781746  0.37619048 0.39285714 ... 0.40634921 0.40634921\n",
      "    0.40634921]\n",
      "   [0.37857143 0.3765873  0.39087302 ... 0.40634921 0.40634921\n",
      "    0.40634921]]\n",
      "\n",
      "  [[0.01031746 0.01071429 0.00833333 ... 0.40634921 0.40634921\n",
      "    0.40634921]\n",
      "   [0.01111111 0.01031746 0.00753968 ... 0.40634921 0.40634921\n",
      "    0.40634921]\n",
      "   [0.01190476 0.00992063 0.00714286 ... 0.40634921 0.40634921\n",
      "    0.40634921]\n",
      "   ...\n",
      "   [0.37857143 0.37420635 0.39087302 ... 0.40634921 0.40634921\n",
      "    0.40634921]\n",
      "   [0.3797619  0.37261905 0.38730159 ... 0.40634921 0.40634921\n",
      "    0.40634921]\n",
      "   [0.38095238 0.3734127  0.38134921 ... 0.40634921 0.40634921\n",
      "    0.40634921]]\n",
      "\n",
      "  [[0.00873016 0.01071429 0.01031746 ... 0.40634921 0.40634921\n",
      "    0.40634921]\n",
      "   [0.00952381 0.01111111 0.00952381 ... 0.40634921 0.40634921\n",
      "    0.40634921]\n",
      "   [0.00992063 0.01031746 0.00833333 ... 0.40634921 0.40634921\n",
      "    0.40634921]\n",
      "   ...\n",
      "   [0.37896825 0.37301587 0.38134921 ... 0.40634921 0.40634921\n",
      "    0.40634921]\n",
      "   [0.38095238 0.37103175 0.37698413 ... 0.40634921 0.40634921\n",
      "    0.40634921]\n",
      "   [0.38333333 0.37103175 0.3718254  ... 0.40634921 0.40634921\n",
      "    0.40634921]]]\n",
      "\n",
      "\n",
      " ...\n",
      "\n",
      "\n",
      " [[[0.18646934 0.32980973 0.17801268 ... 0.43678647 0.44693446\n",
      "    0.49344609]\n",
      "   [0.17251586 0.28879493 0.17674419 ... 0.43551797 0.4448203\n",
      "    0.4782241 ]\n",
      "   [0.16490486 0.23340381 0.16997886 ... 0.42706131 0.4397463\n",
      "    0.46173362]\n",
      "   ...\n",
      "   [0.27610994 0.27019027 0.31035941 ... 0.00972516 0.01437632\n",
      "    0.01395349]\n",
      "   [0.29809725 0.28498943 0.34376321 ... 0.00718816 0.01226216\n",
      "    0.01183932]\n",
      "   [0.31627907 0.30190275 0.36448203 ... 0.00634249 0.01057082\n",
      "    0.01014799]]\n",
      "\n",
      "  [[0.16617336 0.34883721 0.19788584 ... 0.42325581 0.43382664\n",
      "    0.46384778]\n",
      "   [0.1551797  0.32938689 0.21226216 ... 0.41987315 0.43255814\n",
      "    0.46046512]\n",
      "   [0.1551797  0.2807611  0.21775899 ... 0.41099366 0.42790698\n",
      "    0.45369979]\n",
      "   ...\n",
      "   [0.27272727 0.2756871  0.31754757 ... 0.01353066 0.01437632\n",
      "    0.01141649]\n",
      "   [0.29344609 0.29133192 0.34968288 ... 0.01099366 0.01522199\n",
      "    0.01310782]\n",
      "   [0.31627907 0.31374207 0.37124736 ... 0.00803383 0.01353066\n",
      "    0.01310782]]\n",
      "\n",
      "  [[0.15264271 0.32135307 0.21564482 ... 0.40887949 0.42536998\n",
      "    0.45285412]\n",
      "   [0.15264271 0.33403805 0.26173362 ... 0.40422833 0.42156448\n",
      "    0.45116279]\n",
      "   [0.15687104 0.31501057 0.30359408 ... 0.39957717 0.41437632\n",
      "    0.44524313]\n",
      "   ...\n",
      "   [0.27272727 0.28794926 0.31458774 ... 0.01268499 0.00972516\n",
      "    0.00718816]\n",
      "   [0.29260042 0.30613108 0.34799154 ... 0.01310782 0.01268499\n",
      "    0.00930233]\n",
      "   [0.3192389  0.33319239 0.37293869 ... 0.01099366 0.01395349\n",
      "    0.01141649]]\n",
      "\n",
      "  ...\n",
      "\n",
      "  [[0.44143763 0.41818182 0.42494715 ... 0.01479915 0.01310782\n",
      "    0.01649049]\n",
      "   [0.44270613 0.41691332 0.42114165 ... 0.01479915 0.01183932\n",
      "    0.01395349]\n",
      "   [0.44143763 0.42071882 0.41987315 ... 0.01226216 0.01353066\n",
      "    0.01395349]\n",
      "   ...\n",
      "   [0.45369979 0.43044397 0.44778013 ... 0.01395349 0.01353066\n",
      "    0.02959831]\n",
      "   [0.44186047 0.42156448 0.44862579 ... 0.01268499 0.02071882\n",
      "    0.04904863]\n",
      "   [0.4435518  0.42959831 0.45750529 ... 0.01564482 0.03551797\n",
      "    0.06088795]]\n",
      "\n",
      "  [[0.43044397 0.40549683 0.41014799 ... 0.01479915 0.01437632\n",
      "    0.01775899]\n",
      "   [0.43340381 0.41226216 0.40591966 ... 0.01522199 0.01141649\n",
      "    0.01226216]\n",
      "   [0.43382664 0.41606765 0.41014799 ... 0.01268499 0.01099366\n",
      "    0.01141649]\n",
      "   ...\n",
      "   [0.45116279 0.43213531 0.45496829 ... 0.01649049 0.02029598\n",
      "    0.03890063]\n",
      "   [0.44312896 0.42621564 0.46173362 ... 0.01479915 0.02959831\n",
      "    0.05158562]\n",
      "   [0.44439746 0.43255814 0.4832981  ... 0.01733615 0.0435518\n",
      "    0.05835095]]\n",
      "\n",
      "  [[0.42367865 0.4        0.40042283 ... 0.01437632 0.01606765\n",
      "    0.01902748]\n",
      "   [0.42748414 0.41099366 0.39534884 ... 0.01564482 0.01268499\n",
      "    0.01437632]\n",
      "   [0.43340381 0.41818182 0.40338266 ... 0.01479915 0.01099366\n",
      "    0.01141649]\n",
      "   ...\n",
      "   [0.44524313 0.43636364 0.46976744 ... 0.02452431 0.03382664\n",
      "    0.04566596]\n",
      "   [0.4397463  0.43509514 0.49133192 ... 0.02579281 0.0410148\n",
      "    0.04566596]\n",
      "   [0.44270613 0.44270613 0.53065539 ... 0.02832981 0.04778013\n",
      "    0.0448203 ]]]\n",
      "\n",
      "\n",
      " [[[0.01757812 0.01757812 0.02734375 ... 1.         1.\n",
      "    1.        ]\n",
      "   [0.01074219 0.01757812 0.02734375 ... 1.         1.\n",
      "    1.        ]\n",
      "   [0.01171875 0.01855469 0.015625   ... 1.         1.\n",
      "    1.        ]\n",
      "   ...\n",
      "   [0.02636719 0.02734375 0.0234375  ... 1.         1.\n",
      "    1.        ]\n",
      "   [0.01953125 0.01757812 0.02832031 ... 1.         1.\n",
      "    1.        ]\n",
      "   [0.01660156 0.01464844 0.03027344 ... 1.         1.\n",
      "    1.        ]]\n",
      "\n",
      "  [[0.01855469 0.02148438 0.02148438 ... 1.         1.\n",
      "    1.        ]\n",
      "   [0.01464844 0.01855469 0.03222656 ... 1.         1.\n",
      "    1.        ]\n",
      "   [0.01367188 0.01660156 0.02832031 ... 1.         1.\n",
      "    1.        ]\n",
      "   ...\n",
      "   [0.02441406 0.02832031 0.0234375  ... 1.         1.\n",
      "    1.        ]\n",
      "   [0.02050781 0.02148438 0.02734375 ... 1.         1.\n",
      "    1.        ]\n",
      "   [0.01660156 0.015625   0.03027344 ... 1.         1.\n",
      "    1.        ]]\n",
      "\n",
      "  [[0.02246094 0.03027344 0.01953125 ... 1.         1.\n",
      "    1.        ]\n",
      "   [0.02050781 0.02929688 0.03027344 ... 1.         1.\n",
      "    1.        ]\n",
      "   [0.02246094 0.02441406 0.03222656 ... 1.         1.\n",
      "    1.        ]\n",
      "   ...\n",
      "   [0.02148438 0.02636719 0.02148438 ... 1.         1.\n",
      "    1.        ]\n",
      "   [0.01953125 0.02734375 0.02246094 ... 1.         1.\n",
      "    1.        ]\n",
      "   [0.015625   0.02148438 0.02832031 ... 1.         1.\n",
      "    1.        ]]\n",
      "\n",
      "  ...\n",
      "\n",
      "  [[0.02246094 0.01660156 0.02246094 ... 1.         1.\n",
      "    1.        ]\n",
      "   [0.02246094 0.01757812 0.02734375 ... 1.         1.\n",
      "    1.        ]\n",
      "   [0.01953125 0.01757812 0.02929688 ... 1.         1.\n",
      "    1.        ]\n",
      "   ...\n",
      "   [0.02539062 0.03320312 0.03125    ... 1.         1.\n",
      "    1.        ]\n",
      "   [0.02050781 0.03027344 0.02539062 ... 1.         1.\n",
      "    1.        ]\n",
      "   [0.02148438 0.03027344 0.02539062 ... 1.         1.\n",
      "    1.        ]]\n",
      "\n",
      "  [[0.01953125 0.01757812 0.01855469 ... 1.         1.\n",
      "    1.        ]\n",
      "   [0.02539062 0.01757812 0.02246094 ... 1.         1.\n",
      "    1.        ]\n",
      "   [0.02734375 0.02246094 0.02734375 ... 1.         1.\n",
      "    1.        ]\n",
      "   ...\n",
      "   [0.03027344 0.03320312 0.03027344 ... 1.         1.\n",
      "    1.        ]\n",
      "   [0.0234375  0.03320312 0.02734375 ... 1.         1.\n",
      "    1.        ]\n",
      "   [0.01953125 0.03027344 0.02539062 ... 1.         1.\n",
      "    1.        ]]\n",
      "\n",
      "  [[0.01464844 0.015625   0.01855469 ... 1.         1.\n",
      "    1.        ]\n",
      "   [0.02050781 0.01464844 0.01660156 ... 1.         1.\n",
      "    1.        ]\n",
      "   [0.02636719 0.02148438 0.02148438 ... 1.         1.\n",
      "    1.        ]\n",
      "   ...\n",
      "   [0.02929688 0.03222656 0.03222656 ... 1.         1.\n",
      "    1.        ]\n",
      "   [0.02734375 0.03320312 0.03125    ... 1.         1.\n",
      "    1.        ]\n",
      "   [0.02246094 0.03222656 0.02734375 ... 1.         1.\n",
      "    1.        ]]]\n",
      "\n",
      "\n",
      " [[[0.75842697 0.75491573 0.74438202 ... 0.04353933 0.04494382\n",
      "    0.71910112]\n",
      "   [0.75140449 0.74157303 0.72893258 ... 0.04283708 0.04424157\n",
      "    0.71910112]\n",
      "   [0.73174157 0.72261236 0.71839888 ... 0.04283708 0.04424157\n",
      "    0.71910112]\n",
      "   ...\n",
      "   [0.07162921 0.07303371 0.06811798 ... 0.02106742 0.01896067\n",
      "    0.71910112]\n",
      "   [0.06741573 0.06882022 0.06741573 ... 0.02176966 0.01825843\n",
      "    0.71910112]\n",
      "   [0.05196629 0.05547753 0.05547753 ... 0.02106742 0.01896067\n",
      "    0.71910112]]\n",
      "\n",
      "  [[0.75632022 0.75772472 0.74438202 ... 0.04424157 0.04424157\n",
      "    0.71910112]\n",
      "   [0.75070225 0.74789326 0.73384831 ... 0.04353933 0.04424157\n",
      "    0.71910112]\n",
      "   [0.73103933 0.73033708 0.72823034 ... 0.04283708 0.04424157\n",
      "    0.71910112]\n",
      "   ...\n",
      "   [0.07303371 0.07162921 0.07303371 ... 0.01966292 0.01896067\n",
      "    0.71910112]\n",
      "   [0.06671348 0.06811798 0.07092697 ... 0.02036517 0.01755618\n",
      "    0.71910112]\n",
      "   [0.04845506 0.05407303 0.05898876 ... 0.02036517 0.01755618\n",
      "    0.71910112]]\n",
      "\n",
      "  [[0.75632022 0.75632022 0.74859551 ... 0.04424157 0.04353933\n",
      "    0.71910112]\n",
      "   [0.75210674 0.74648876 0.74087079 ... 0.04424157 0.04283708\n",
      "    0.71910112]\n",
      "   [0.73595506 0.73103933 0.73103933 ... 0.04283708 0.04353933\n",
      "    0.71910112]\n",
      "   ...\n",
      "   [0.07303371 0.06952247 0.07724719 ... 0.01825843 0.01825843\n",
      "    0.71910112]\n",
      "   [0.06671348 0.06390449 0.0744382  ... 0.01825843 0.01685393\n",
      "    0.71910112]\n",
      "   [0.04705056 0.04845506 0.05688202 ... 0.01825843 0.01615169\n",
      "    0.71910112]]\n",
      "\n",
      "  ...\n",
      "\n",
      "  [[0.01474719 0.01615169 0.0133427  ... 0.04494382 0.03932584\n",
      "    0.71910112]\n",
      "   [0.01544944 0.01966292 0.01474719 ... 0.04494382 0.03792135\n",
      "    0.71910112]\n",
      "   [0.01474719 0.02247191 0.01755618 ... 0.04424157 0.03651685\n",
      "    0.71910112]\n",
      "   ...\n",
      "   [0.02036517 0.01474719 0.01755618 ... 0.01474719 0.01755618\n",
      "    0.71910112]\n",
      "   [0.01685393 0.01685393 0.01615169 ... 0.01404494 0.01755618\n",
      "    0.71910112]\n",
      "   [0.01685393 0.01966292 0.01685393 ... 0.0133427  0.01825843\n",
      "    0.71910112]]\n",
      "\n",
      "  [[0.01615169 0.0133427  0.0119382  ... 0.04564607 0.0386236\n",
      "    0.71910112]\n",
      "   [0.01685393 0.01474719 0.0133427  ... 0.04494382 0.0372191\n",
      "    0.71910112]\n",
      "   [0.01685393 0.01825843 0.01474719 ... 0.04424157 0.03581461\n",
      "    0.71910112]\n",
      "   ...\n",
      "   [0.01896067 0.01474719 0.01825843 ... 0.01474719 0.01615169\n",
      "    0.71910112]\n",
      "   [0.01896067 0.01544944 0.01685393 ... 0.01404494 0.01825843\n",
      "    0.71910112]\n",
      "   [0.02036517 0.01755618 0.01685393 ... 0.01404494 0.01896067\n",
      "    0.71910112]]\n",
      "\n",
      "  [[0.01755618 0.01615169 0.01123596 ... 0.04564607 0.0386236\n",
      "    0.71910112]\n",
      "   [0.01825843 0.01615169 0.0133427  ... 0.04494382 0.0372191\n",
      "    0.71910112]\n",
      "   [0.01896067 0.01685393 0.01404494 ... 0.04494382 0.03651685\n",
      "    0.71910112]\n",
      "   ...\n",
      "   [0.01755618 0.0133427  0.01544944 ... 0.01615169 0.01615169\n",
      "    0.71910112]\n",
      "   [0.01825843 0.0133427  0.01404494 ... 0.01685393 0.01896067\n",
      "    0.71910112]\n",
      "   [0.01966292 0.01474719 0.01474719 ... 0.01755618 0.01966292\n",
      "    0.71910112]]]]\n"
     ]
    }
   ],
   "source": [
    "print(X_train)"
   ]
  },
  {
   "cell_type": "code",
   "execution_count": 10,
   "id": "4fda075c",
   "metadata": {},
   "outputs": [
    {
     "data": {
      "text/plain": [
       "1.0"
      ]
     },
     "execution_count": 10,
     "metadata": {},
     "output_type": "execute_result"
    }
   ],
   "source": [
    "X_train.max()"
   ]
  },
  {
   "cell_type": "code",
   "execution_count": 19,
   "id": "b1385703",
   "metadata": {},
   "outputs": [
    {
     "data": {
      "text/plain": [
       "(43, 128, 128, 384)"
      ]
     },
     "execution_count": 19,
     "metadata": {},
     "output_type": "execute_result"
    }
   ],
   "source": [
    "X_train.shape"
   ]
  },
  {
   "cell_type": "code",
   "execution_count": 12,
   "id": "2f07fd25",
   "metadata": {},
   "outputs": [
    {
     "data": {
      "text/plain": [
       "0.0"
      ]
     },
     "execution_count": 12,
     "metadata": {},
     "output_type": "execute_result"
    }
   ],
   "source": [
    "X_train.min()"
   ]
  },
  {
   "cell_type": "code",
   "execution_count": 20,
   "id": "3a6635ec",
   "metadata": {},
   "outputs": [],
   "source": [
    "X_train_128 = X_train[:, :, :, :128]"
   ]
  },
  {
   "cell_type": "code",
   "execution_count": 21,
   "id": "2da57c1a",
   "metadata": {},
   "outputs": [],
   "source": [
    "X_train_128 = X_train_128.reshape((43, 128, 128, 128))"
   ]
  },
  {
   "cell_type": "code",
   "execution_count": 23,
   "id": "7e118b87",
   "metadata": {},
   "outputs": [],
   "source": [
    "y_train_128 = y_train[:, :, :, :128]"
   ]
  },
  {
   "cell_type": "code",
   "execution_count": 24,
   "id": "a95f0448",
   "metadata": {},
   "outputs": [],
   "source": [
    "y_test_128 = y_test[:, :, :, :128]"
   ]
  },
  {
   "cell_type": "code",
   "execution_count": 25,
   "id": "831f54bf",
   "metadata": {},
   "outputs": [],
   "source": [
    "X_test_128 = X_test[:, :, :, :128]"
   ]
  },
  {
   "cell_type": "code",
   "execution_count": 27,
   "id": "58441f5a",
   "metadata": {},
   "outputs": [],
   "source": [
    "y_train_128 = y_train_128.reshape((43, 128, 128, 128))\n",
    "y_test_128 = y_test_128.reshape((10, 128, 128, 128))\n",
    "X_test_128 = X_test_128.reshape((10, 128, 128, 128))"
   ]
  },
  {
   "cell_type": "code",
   "execution_count": null,
   "id": "55b16904",
   "metadata": {},
   "outputs": [],
   "source": []
  }
 ],
 "metadata": {
  "kernelspec": {
   "display_name": "Python 3 (ipykernel)",
   "language": "python",
   "name": "python3"
  },
  "language_info": {
   "codemirror_mode": {
    "name": "ipython",
    "version": 3
   },
   "file_extension": ".py",
   "mimetype": "text/x-python",
   "name": "python",
   "nbconvert_exporter": "python",
   "pygments_lexer": "ipython3",
   "version": "3.9.7"
  }
 },
 "nbformat": 4,
 "nbformat_minor": 5
}
