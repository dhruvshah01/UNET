{
 "cells": [
  {
   "cell_type": "code",
   "execution_count": 1,
   "id": "23d168c9",
   "metadata": {},
   "outputs": [],
   "source": [
    "import nrrd\n",
    "import numpy as np"
   ]
  },
  {
   "cell_type": "code",
   "execution_count": 2,
   "id": "978fcb4a",
   "metadata": {},
   "outputs": [],
   "source": [
    "import matplotlib.pyplot as plt"
   ]
  },
  {
   "cell_type": "code",
   "execution_count": 3,
   "id": "3a246d4c",
   "metadata": {},
   "outputs": [],
   "source": [
    "output_size = (128, 128, 384)"
   ]
  },
  {
   "cell_type": "code",
   "execution_count": 4,
   "id": "dc950dee",
   "metadata": {},
   "outputs": [],
   "source": [
    "# Calculate the number of cubes in each dimension\n",
    "num_cubes_x = 4\n",
    "num_cubes_y = 4\n",
    "num_cubes_z = 1\n",
    "output_size = (128, 128, 384)\n",
    "x = 0\n",
    "\n",
    "for file_index in range(70):  \n",
    "    input_path = f'/home/dhruvjignesh.shah001/CACTAS-AI/_EXPERIMENTS/3D UNET/PaddedLabelsESUS/Label_{file_index}.nrrd'\n",
    "    input_image, input_header = nrrd.read(input_path)\n",
    "    for i in range(num_cubes_x):\n",
    "        for j in range(num_cubes_y):\n",
    "            for k in range(num_cubes_z):\n",
    "                x_start = i * output_size[0]\n",
    "                x_end = (i + 1) * output_size[0]\n",
    "                y_start = j * output_size[1]\n",
    "                y_end = (j + 1) * output_size[1]\n",
    "                z_start = k * output_size[2]\n",
    "                z_end = (k + 1) * output_size[2]\n",
    "                output_chunk = input_image[x_start:x_end, y_start:y_end, z_start:z_end]\n",
    "                output_filename = f\"Chunks_Labels_ESUS/output_label_chunk_{x}.nrrd\"\n",
    "                nrrd.write(output_filename, output_chunk, input_header)\n",
    "                x += 1"
   ]
  },
  {
   "cell_type": "code",
   "execution_count": null,
   "id": "b4524231",
   "metadata": {},
   "outputs": [],
   "source": []
  }
 ],
 "metadata": {
  "kernelspec": {
   "display_name": "Python 3 (ipykernel)",
   "language": "python",
   "name": "python3"
  },
  "language_info": {
   "codemirror_mode": {
    "name": "ipython",
    "version": 3
   },
   "file_extension": ".py",
   "mimetype": "text/x-python",
   "name": "python",
   "nbconvert_exporter": "python",
   "pygments_lexer": "ipython3",
   "version": "3.9.7"
  }
 },
 "nbformat": 4,
 "nbformat_minor": 5
}
