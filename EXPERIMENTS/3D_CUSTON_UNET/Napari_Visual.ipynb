{
 "cells": [
  {
   "cell_type": "code",
   "execution_count": 1,
   "id": "adcbca1c-8789-4898-98cb-8e92e8991922",
   "metadata": {},
   "outputs": [],
   "source": [
    "import napari"
   ]
  },
  {
   "cell_type": "code",
   "execution_count": 2,
   "id": "ea337244-9483-46d5-abac-2f4414a05a2c",
   "metadata": {},
   "outputs": [],
   "source": [
    "import nrrd"
   ]
  },
  {
   "cell_type": "code",
   "execution_count": 3,
   "id": "05af5085-4976-4c40-a875-02e69dc6291d",
   "metadata": {},
   "outputs": [],
   "source": [
    "data, header = nrrd.read(\"/home/dhruvjignesh.shah001/CACTAS-AI/_EXPERIMENTS/3D UNET/Chunks_Labels_ESUS/output_label_0.nrrd\")"
   ]
  },
  {
   "cell_type": "code",
   "execution_count": 4,
   "id": "2da3be0f-75d6-434c-babe-1b9d71b04b91",
   "metadata": {},
   "outputs": [
    {
     "name": "stderr",
     "output_type": "stream",
     "text": [
      "WARNING: QStandardPaths: XDG_RUNTIME_DIR not set, defaulting to '/tmp/runtime-dhruvjignesh.shah001'\n",
      "WARNING: This plugin does not support propagateSizeHints()\n",
      "WARNING: QOpenGLWidget: Failed to create context\n",
      "WARNING: QOpenGLWidget: Failed to create context\n",
      "WARNING: This plugin does not support propagateSizeHints()\n",
      "WARNING: QOpenGLWidget: Failed to create context\n",
      "WARNING: This plugin does not support propagateSizeHints()\n",
      "WARNING: composeAndFlush: QOpenGLContext creation failed\n",
      "WARNING: composeAndFlush: makeCurrent() failed\n",
      "WARNING: This plugin does not support propagateSizeHints()\n",
      "WARNING: QOpenGLWidget: Failed to create context\n",
      "WARNING: composeAndFlush: makeCurrent() failed\n",
      "WARNING: composeAndFlush: makeCurrent() failed\n",
      "WARNING: composeAndFlush: makeCurrent() failed\n"
     ]
    }
   ],
   "source": [
    "viewer = napari.view_image(data, channel_axis=1, ndisplay=3)"
   ]
  },
  {
   "cell_type": "code",
   "execution_count": null,
   "id": "f56f2103-330d-466f-b96a-8dc8a6a5370b",
   "metadata": {},
   "outputs": [],
   "source": []
  }
 ],
 "metadata": {
  "kernelspec": {
   "display_name": "Python 3 (ipykernel)",
   "language": "python",
   "name": "python3"
  },
  "language_info": {
   "codemirror_mode": {
    "name": "ipython",
    "version": 3
   },
   "file_extension": ".py",
   "mimetype": "text/x-python",
   "name": "python",
   "nbconvert_exporter": "python",
   "pygments_lexer": "ipython3",
   "version": "3.9.7"
  }
 },
 "nbformat": 4,
 "nbformat_minor": 5
}
