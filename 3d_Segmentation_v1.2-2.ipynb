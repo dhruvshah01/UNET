{
 "cells": [
  {
   "cell_type": "markdown",
   "id": "0971fd0b",
   "metadata": {},
   "source": [
    "# Importing Libraries"
   ]
  },
  {
   "cell_type": "code",
   "execution_count": 2,
   "id": "beea7945",
   "metadata": {},
   "outputs": [
    {
     "name": "stderr",
     "output_type": "stream",
     "text": [
      "2023-11-27 15:09:07.797558: I tensorflow/core/platform/cpu_feature_guard.cc:182] This TensorFlow binary is optimized to use available CPU instructions in performance-critical operations.\n",
      "To enable the following instructions: SSE4.1 SSE4.2 AVX AVX2 FMA, in other operations, rebuild TensorFlow with the appropriate compiler flags.\n"
     ]
    }
   ],
   "source": [
    "import tensorflow as tf"
   ]
  },
  {
   "cell_type": "code",
   "execution_count": 3,
   "id": "917ca24c",
   "metadata": {},
   "outputs": [
    {
     "name": "stdout",
     "output_type": "stream",
     "text": [
      "2.12.0\n"
     ]
    }
   ],
   "source": [
    "print(tf.__version__)"
   ]
  },
  {
   "cell_type": "code",
   "execution_count": 4,
   "id": "d792355b",
   "metadata": {},
   "outputs": [],
   "source": [
    "from tensorflow.keras import Model\n",
    "from tensorflow.keras.layers import Conv3D, MaxPooling3D, UpSampling3D, Concatenate"
   ]
  },
  {
   "cell_type": "code",
   "execution_count": 5,
   "id": "2d1bdedd",
   "metadata": {},
   "outputs": [],
   "source": [
    "import sys\n",
    "sys.path.append('../../_EXPERIMENTS')"
   ]
  },
  {
   "cell_type": "code",
   "execution_count": 6,
   "id": "511db049",
   "metadata": {},
   "outputs": [],
   "source": [
    "#import cactas as C\n",
    "import os\n",
    "import random\n",
    "import numpy as np\n",
    "import nrrd"
   ]
  },
  {
   "cell_type": "code",
   "execution_count": 7,
   "id": "1e485941",
   "metadata": {},
   "outputs": [
    {
     "name": "stdout",
     "output_type": "stream",
     "text": [
      "WARNING:tensorflow:From /tmp/ipykernel_1609211/3939592.py:1: is_gpu_available (from tensorflow.python.framework.test_util) is deprecated and will be removed in a future version.\n",
      "Instructions for updating:\n",
      "Use `tf.config.list_physical_devices('GPU')` instead.\n"
     ]
    },
    {
     "data": {
      "text/plain": [
       "False"
      ]
     },
     "execution_count": 7,
     "metadata": {},
     "output_type": "execute_result"
    }
   ],
   "source": [
    "gpu_available = tf.test.is_gpu_available()\n",
    "gpu_available"
   ]
  },
  {
   "cell_type": "code",
   "execution_count": 8,
   "id": "7a765e20",
   "metadata": {},
   "outputs": [],
   "source": [
    "import random\n",
    "from tensorflow.keras.optimizers import Adam"
   ]
  },
  {
   "cell_type": "markdown",
   "id": "9f07c207",
   "metadata": {},
   "source": [
    "# Defining Functions"
   ]
  },
  {
   "cell_type": "code",
   "execution_count": 9,
   "id": "76cfade5",
   "metadata": {},
   "outputs": [],
   "source": [
    "def load_padded_images(IMG_DATAPATH):\n",
    "    directory = IMG_DATAPATH\n",
    "    min_filesize_bytes = 15728640 #15MB\n",
    "    images = []\n",
    "    for filename in os.listdir(directory):\n",
    "        if (filename.startswith(\".ipynb_checkpoints\")):\n",
    "            print()\n",
    "        else:\n",
    "            images.append(filename)\n",
    "    return images"
   ]
  },
  {
   "cell_type": "code",
   "execution_count": 10,
   "id": "7cd351b3",
   "metadata": {},
   "outputs": [],
   "source": [
    "def load_padded_labels(LAB_DATAPATH):\n",
    "    directory = LAB_DATAPATH\n",
    "    min_filesize_bytes = 15728640 #15MB\n",
    "    labels = []\n",
    "    for filename in os.listdir(directory):\n",
    "        if (filename.startswith(\".ipynb_checkpoints\")):\n",
    "            print()\n",
    "        else:\n",
    "            labels.append(filename)\n",
    "    return labels"
   ]
  },
  {
   "cell_type": "code",
   "execution_count": 11,
   "id": "529fdaee",
   "metadata": {},
   "outputs": [],
   "source": [
    "def buildModel():\n",
    "    inputs = tf.keras.Input(shape=(128, 128, 384, 1))\n",
    "\n",
    "    conv1 = Conv3D(64, 3, activation='relu', padding='same')(inputs)\n",
    "    pool1 = MaxPooling3D(pool_size=(2, 2, 2))(conv1)\n",
    "\n",
    "    conv2 = Conv3D(128, 3, activation='relu', padding='same')(pool1) \n",
    "    pool2 = MaxPooling3D(pool_size=(2, 2, 2))(conv2)\n",
    "\n",
    "    conv3 = Conv3D(256, 3, activation='relu', padding='same')(pool2)\n",
    "    pool3 = MaxPooling3D(pool_size=(2, 2, 2))(conv3)\n",
    "\n",
    "    conv4 = Conv3D(512, 3, activation='relu', padding='same')(pool3)\n",
    "    pool4 = MaxPooling3D(pool_size=(2, 2, 2))(conv4)\n",
    "\n",
    "    conv5 = Conv3D(1024, 3, activation='relu', padding='same')(pool4)\n",
    "\n",
    "    up6 = Concatenate(axis=4)([UpSampling3D(size=(2, 2, 2))(conv5), conv4])\n",
    "    conv6 = Conv3D(512, 3, activation='relu', padding='same')(up6)\n",
    "\n",
    "    up7 = Concatenate(axis=4)([UpSampling3D(size=(2, 2, 2))(conv6), conv3])  \n",
    "    conv7 = Conv3D(256, 3, activation='relu', padding='same')(up7)\n",
    "\n",
    "    up8 = Concatenate(axis=4)([UpSampling3D(size=(2, 2, 2))(conv7), conv2])\n",
    "    conv8 = Conv3D(128, 3, activation='relu', padding='same')(up8)\n",
    "\n",
    "    up9 = Concatenate(axis=4)([UpSampling3D(size=(2, 2, 2))(conv8), conv1])\n",
    "    conv9 = Conv3D(64, 3, activation='relu', padding='same')(up9)\n",
    "\n",
    "    conv10 = Conv3D(1, 1, activation='sigmoid')(conv9)\n",
    "    \n",
    "    model = Model(inputs=inputs, outputs=conv10)\n",
    "    \n",
    "    return model"
   ]
  },
  {
   "cell_type": "code",
   "execution_count": 12,
   "id": "95c0ba3e",
   "metadata": {},
   "outputs": [],
   "source": [
    "def split_data(images, labels, split_ratio=0.8):\n",
    "    \n",
    "    data = list(zip(images, labels))\n",
    "    \n",
    "    random.shuffle(data)\n",
    "\n",
    "  # Get the split index\n",
    "    split_index = int(len(data) * split_ratio)\n",
    "\n",
    "  # Split data into train and test\n",
    "    train_data = data[:split_index]\n",
    "    test_data = data[split_index:]\n",
    "\n",
    "  # Separate into images and labels\n",
    "    X_train, y_train = zip(*train_data) \n",
    "    X_test, y_test = zip(*test_data)\n",
    "   \n",
    "    return X_train, X_test, y_train, y_test"
   ]
  },
  {
   "cell_type": "code",
   "execution_count": 13,
   "id": "2e6ef91c",
   "metadata": {},
   "outputs": [],
   "source": [
    "def batch_normalize(data_path, file_list, batch_size):\n",
    "    normalized_data = []\n",
    "    for file in file_list:\n",
    "        data, header = nrrd.read(data_path + \"/\" + file)\n",
    "        normalized_data.append((data - np.min(data)) / (np.max(data) - np.min(data)))\n",
    "\n",
    "        if len(normalized_data) == batch_size:\n",
    "            yield normalized_data\n",
    "            normalized_data = []\n",
    "\n",
    "    if normalized_data:\n",
    "        yield normalized_data"
   ]
  },
  {
   "cell_type": "code",
   "execution_count": 14,
   "id": "a37f1bd1",
   "metadata": {},
   "outputs": [],
   "source": [
    "def normalization(IMG_DATAPATH, LAB_DATAPATH, X_train, y_train, X_test, y_test, batch_size):\n",
    "    norm_X_train = []\n",
    "    norm_y_train = []\n",
    "    norm_X_test = []\n",
    "    norm_y_test = []\n",
    "\n",
    "    for batch in batch_normalize(IMG_DATAPATH, X_train, batch_size):\n",
    "        norm_X_train.extend(batch)\n",
    "    \n",
    "    for batch in batch_normalize(LAB_DATAPATH, y_train, batch_size):\n",
    "        norm_y_train.extend(batch)\n",
    "\n",
    "    for batch in batch_normalize(IMG_DATAPATH, X_test, batch_size):\n",
    "        norm_X_test.extend(batch)\n",
    "    \n",
    "    for batch in batch_normalize(LAB_DATAPATH, y_test, batch_size):\n",
    "        norm_y_test.extend(batch)\n",
    "\n",
    "    return norm_X_train, norm_y_train, norm_X_test, norm_y_test"
   ]
  },
  {
   "cell_type": "markdown",
   "id": "4e2a4455",
   "metadata": {},
   "source": [
    "# Loading Data and Normalizing"
   ]
  },
  {
   "cell_type": "code",
   "execution_count": 15,
   "id": "afff7a57",
   "metadata": {},
   "outputs": [],
   "source": [
    "IMG_DATAPATH = os.path.join('ChunksESUS')\n",
    "LAB_DATAPATH = os.path.join('Chunks_Labels_ESUS')"
   ]
  },
  {
   "cell_type": "code",
   "execution_count": 16,
   "id": "954020cc",
   "metadata": {},
   "outputs": [
    {
     "name": "stdout",
     "output_type": "stream",
     "text": [
      "\n"
     ]
    }
   ],
   "source": [
    "images = load_padded_images(IMG_DATAPATH)\n",
    "labels = load_padded_labels(LAB_DATAPATH)"
   ]
  },
  {
   "cell_type": "code",
   "execution_count": 17,
   "id": "36a3d284",
   "metadata": {},
   "outputs": [],
   "source": [
    "X_train, X_test, y_train, y_test = split_data(images, labels)"
   ]
  },
  {
   "cell_type": "code",
   "execution_count": 18,
   "id": "9960e218",
   "metadata": {},
   "outputs": [],
   "source": [
    "percentage_to_select = 30\n",
    "\n",
    "num_samples_to_select = int(len(X_train) * percentage_to_select / 100)\n",
    "\n",
    "random_indices = random.sample(range(len(X_train)), num_samples_to_select)\n",
    "\n",
    "X_train_selected = [X_train[i] for i in random_indices]\n",
    "y_train_selected = [y_train[i] for i in random_indices]\n",
    "\n",
    "num_samples_to_select = int(len(X_test) * percentage_to_select / 100)\n",
    "random_indices = random.sample(range(len(X_test)), num_samples_to_select)\n",
    "X_test_selected = [X_test[i] for i in random_indices]\n",
    "y_test_selected = [y_test[i] for i in random_indices]"
   ]
  },
  {
   "cell_type": "code",
   "execution_count": 19,
   "id": "37ce6f96",
   "metadata": {},
   "outputs": [
    {
     "data": {
      "text/plain": [
       "870"
      ]
     },
     "execution_count": 19,
     "metadata": {},
     "output_type": "execute_result"
    }
   ],
   "source": [
    "len(X_train)"
   ]
  },
  {
   "cell_type": "code",
   "execution_count": 20,
   "id": "f2d546a8",
   "metadata": {},
   "outputs": [
    {
     "name": "stderr",
     "output_type": "stream",
     "text": [
      "/tmp/ipykernel_1609211/1398699592.py:5: RuntimeWarning: invalid value encountered in divide\n",
      "  normalized_data.append((data - np.min(data)) / (np.max(data) - np.min(data)))\n"
     ]
    }
   ],
   "source": [
    "X_train, y_train, X_test, y_test = normalization(IMG_DATAPATH, LAB_DATAPATH, X_train_selected, y_train_selected, X_test_selected, y_test_selected, 2)"
   ]
  },
  {
   "cell_type": "code",
   "execution_count": 21,
   "id": "de4e67df",
   "metadata": {},
   "outputs": [
    {
     "data": {
      "text/plain": [
       "261"
      ]
     },
     "execution_count": 21,
     "metadata": {},
     "output_type": "execute_result"
    }
   ],
   "source": [
    "len(X_train)"
   ]
  },
  {
   "cell_type": "code",
   "execution_count": 22,
   "id": "b5a07434",
   "metadata": {},
   "outputs": [],
   "source": [
    "X_train = np.array(X_train)\n"
   ]
  },
  {
   "cell_type": "code",
   "execution_count": 23,
   "id": "c1d3f748",
   "metadata": {},
   "outputs": [],
   "source": [
    "X_test = np.array(X_test)"
   ]
  },
  {
   "cell_type": "code",
   "execution_count": 24,
   "id": "eeb3db0a",
   "metadata": {},
   "outputs": [],
   "source": [
    "X_train = X_train.reshape(-1, 128, 128, 384, 1)\n",
    "X_test = X_test.reshape(-1, 128, 128, 384, 1)"
   ]
  },
  {
   "cell_type": "code",
   "execution_count": 25,
   "id": "90af955b",
   "metadata": {},
   "outputs": [],
   "source": [
    "y_train = np.array(y_train)"
   ]
  },
  {
   "cell_type": "code",
   "execution_count": 26,
   "id": "81dde151",
   "metadata": {},
   "outputs": [],
   "source": [
    "y_test = np.array(y_test)"
   ]
  },
  {
   "cell_type": "code",
   "execution_count": 27,
   "id": "946b2554",
   "metadata": {},
   "outputs": [
    {
     "data": {
      "text/plain": [
       "261"
      ]
     },
     "execution_count": 27,
     "metadata": {},
     "output_type": "execute_result"
    }
   ],
   "source": [
    "len(X_train)"
   ]
  },
  {
   "cell_type": "code",
   "execution_count": 28,
   "id": "dbc8e1bf",
   "metadata": {},
   "outputs": [
    {
     "data": {
      "text/plain": [
       "(261, 128, 128, 384, 1)"
      ]
     },
     "execution_count": 28,
     "metadata": {},
     "output_type": "execute_result"
    }
   ],
   "source": [
    "X_train.shape"
   ]
  },
  {
   "cell_type": "markdown",
   "id": "1860df25",
   "metadata": {},
   "source": [
    "# Model Building"
   ]
  },
  {
   "cell_type": "code",
   "execution_count": 29,
   "id": "2e5bc97b",
   "metadata": {},
   "outputs": [
    {
     "name": "stderr",
     "output_type": "stream",
     "text": [
      "2023-11-27 15:19:14.845642: I tensorflow/core/common_runtime/process_util.cc:146] Creating new thread pool with default inter op setting: 2. Tune using inter_op_parallelism_threads for best performance.\n"
     ]
    }
   ],
   "source": [
    "model = buildModel()"
   ]
  },
  {
   "cell_type": "code",
   "execution_count": 30,
   "id": "7d4bead9",
   "metadata": {},
   "outputs": [
    {
     "name": "stderr",
     "output_type": "stream",
     "text": [
      "WARNING:absl:`lr` is deprecated in Keras optimizer, please use `learning_rate` or use the legacy optimizer, e.g.,tf.keras.optimizers.legacy.Adam.\n"
     ]
    }
   ],
   "source": [
    "model.compile(optimizer=Adam(lr=1e-4), loss='binary_crossentropy', metrics=['accuracy'])"
   ]
  },
  {
   "cell_type": "code",
   "execution_count": null,
   "id": "6eb91ddd",
   "metadata": {
    "scrolled": true
   },
   "outputs": [],
   "source": [
    "model.fit(X_train, y_train, batch_size=2, epochs=5, validation_data=(X_test, y_test))"
   ]
  },
  {
   "cell_type": "code",
   "execution_count": null,
   "id": "780419e1",
   "metadata": {},
   "outputs": [],
   "source": []
  }
 ],
 "metadata": {
  "kernelspec": {
   "display_name": "Python 3 (ipykernel)",
   "language": "python",
   "name": "python3"
  },
  "language_info": {
   "codemirror_mode": {
    "name": "ipython",
    "version": 3
   },
   "file_extension": ".py",
   "mimetype": "text/x-python",
   "name": "python",
   "nbconvert_exporter": "python",
   "pygments_lexer": "ipython3",
   "version": "3.9.7"
  }
 },
 "nbformat": 4,
 "nbformat_minor": 5
}
